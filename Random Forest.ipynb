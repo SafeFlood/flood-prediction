{
 "cells": [
  {
   "cell_type": "code",
   "execution_count": 1,
   "id": "43ebcd55",
   "metadata": {},
   "outputs": [],
   "source": [
    "import pandas as pd\n",
    "import numpy as np\n",
    "import matplotlib.pyplot as plt\n",
    "import seaborn as sns\n",
    "\n",
    "from sklearn.model_selection import train_test_split, RandomizedSearchCV\n",
    "from sklearn.ensemble import RandomForestClassifier\n",
    "from sklearn.metrics import classification_report, confusion_matrix, roc_auc_score\n",
    "from imblearn.over_sampling import SMOTE\n",
    "\n",
    "import joblib\n",
    "\n",
    "sns.set(style=\"whitegrid\")"
   ]
  },
  {
   "cell_type": "code",
   "execution_count": 2,
   "id": "40993c31",
   "metadata": {},
   "outputs": [],
   "source": [
    "#Load Dataset\n",
    "df = pd.read_csv('modis_flood_features_cleaned_v1.1.csv', parse_dates=['date'])"
   ]
  },
  {
   "cell_type": "code",
   "execution_count": 3,
   "id": "48fbf925",
   "metadata": {},
   "outputs": [],
   "source": [
    "X = df.drop(columns=['date', 'target'])\n",
    "y = df['target']"
   ]
  },
  {
   "cell_type": "code",
   "execution_count": 4,
   "id": "aa9b5f0d",
   "metadata": {},
   "outputs": [],
   "source": [
    "X = X.apply(pd.to_numeric, errors='coerce').fillna(0)"
   ]
  },
  {
   "cell_type": "code",
   "execution_count": 5,
   "id": "7314b544",
   "metadata": {},
   "outputs": [],
   "source": [
    "# Split data\n",
    "X_train, X_test, y_train, y_test = train_test_split(X, y, test_size=0.2, stratify=y, random_state=42)"
   ]
  },
  {
   "cell_type": "code",
   "execution_count": 6,
   "id": "a68aa43d",
   "metadata": {},
   "outputs": [],
   "source": [
    "#RF tanpa SMOTE\n",
    "rf_1 = RandomForestClassifier(n_estimators=100, random_state=42)\n",
    "rf_1.fit(X_train, y_train)\n",
    "y_pred_1 = rf_1.predict(X_test)\n",
    "roc_auc_1 = roc_auc_score(y_test, rf_1.predict_proba(X_test)[:,1])"
   ]
  },
  {
   "cell_type": "code",
   "execution_count": null,
   "id": "e39d449d",
   "metadata": {},
   "outputs": [],
   "source": [
    "#RF + SMOTE\n",
    "sm = SMOTE(random_state=42)\n",
    "X_resampled, y_resampled = sm.fit_resample(X_train, y_train)\n",
    "rf_2 = RandomForestClassifier(n_estimators=100, random_state=42)\n",
    "rf_2.fit(X_resampled, y_resampled)\n",
    "y_pred_2 = rf_2.predict(X_test)\n",
    "roc_auc_2 = roc_auc_score(y_test, rf_2.predict_proba(X_test)[:,1])"
   ]
  },
  {
   "cell_type": "code",
   "execution_count": null,
   "id": "27a7a823",
   "metadata": {},
   "outputs": [],
   "source": [
    "#Ringkasan hasil evaluasi\n",
    "results = pd.DataFrame({\n",
    "    'Model': [\n",
    "        'Random Forest',\n",
    "        'RF + SMOTE',\n",
    "    ],\n",
    "    'Accuracy': [\n",
    "        np.mean(y_test == y_pred_1),\n",
    "        np.mean(y_test == y_pred_2) \n",
    "    ],\n",
    "    'Precision (1)': [\n",
    "        classification_report(y_test, y_pred_1, output_dict=True)['1']['precision'],\n",
    "        classification_report(y_test, y_pred_2, output_dict=True)['1']['precision'] \n",
    "    ],\n",
    "    'Recall (1)': [\n",
    "        classification_report(y_test, y_pred_1, output_dict=True)['1']['recall'],\n",
    "        classification_report(y_test, y_pred_2, output_dict=True)['1']['recall'] \n",
    "    ],\n",
    "    'F1 Score (1)': [\n",
    "        classification_report(y_test, y_pred_1, output_dict=True)['1']['f1-score'],\n",
    "        classification_report(y_test, y_pred_2, output_dict=True)['1']['f1-score'] \n",
    "    ],\n",
    "    'ROC AUC': [\n",
    "        roc_auc_1, roc_auc_2\n",
    "    ]\n",
    "})"
   ]
  },
  {
   "cell_type": "code",
   "execution_count": null,
   "id": "24487d8f",
   "metadata": {},
   "outputs": [],
   "source": [
    "print(\"\\n=== Hasil Evaluasi Model Random Forest ===\")\n",
    "print(results)"
   ]
  }
 ],
 "metadata": {
  "kernelspec": {
   "display_name": "Python 3 (ipykernel)",
   "language": "python",
   "name": "python3"
  },
  "language_info": {
   "codemirror_mode": {
    "name": "ipython",
    "version": 3
   },
   "file_extension": ".py",
   "mimetype": "text/x-python",
   "name": "python",
   "nbconvert_exporter": "python",
   "pygments_lexer": "ipython3",
   "version": "3.10.9"
  }
 },
 "nbformat": 4,
 "nbformat_minor": 5
}
