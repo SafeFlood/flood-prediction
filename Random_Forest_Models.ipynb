{
  "cells": [
    {
      "cell_type": "code",
      "execution_count": null,
      "metadata": {
        "id": "ePCT9GbQdotu"
      },
      "outputs": [],
      "source": [
        "import pandas as pd\n",
        "import numpy as np\n",
        "from sklearn.model_selection import train_test_split\n",
        "from sklearn.preprocessing import StandardScaler\n",
        "from imblearn.over_sampling import SMOTE\n",
        "from sklearn.metrics import confusion_matrix, classification_report, roc_auc_score\n",
        "from sklearn.ensemble import RandomForestClassifier"
      ]
    },
    {
      "cell_type": "code",
      "execution_count": null,
      "metadata": {
        "id": "VnIEBPQ4dpnX"
      },
      "outputs": [],
      "source": [
        "df = pd.read_csv(\"modis_flood_features_cleaned_v1.1.csv\")"
      ]
    },
    {
      "cell_type": "code",
      "source": [],
      "metadata": {
        "id": "L5uH4Gy5igus"
      },
      "execution_count": null,
      "outputs": []
    },
    {
      "cell_type": "code",
      "execution_count": null,
      "metadata": {
        "colab": {
          "base_uri": "https://localhost:8080/",
          "height": 206
        },
        "id": "nA-63Bgm5YJW",
        "outputId": "8cd0466f-593d-4318-af77-c77670bcdb80"
      },
      "outputs": [
        {
          "output_type": "execute_result",
          "data": {
            "text/plain": [
              "         date         lon       lat  flooded  jrc_perm_water  precip_1d  \\\n",
              "0  2003-12-10  120.478677 -6.495942      1.0             1.0   9.645125   \n",
              "1  2003-12-10  120.480923 -6.495942      1.0             1.0   9.645125   \n",
              "2  2003-12-10  120.478677 -6.493697      0.0             1.0   9.645125   \n",
              "3  2003-12-10  120.480923 -6.493697      1.0             0.0   9.645125   \n",
              "4  2003-12-10  120.478677 -6.491451      0.0             1.0   9.645125   \n",
              "\n",
              "   precip_3d        NDVI      NDWI  landcover  elevation     slope  \\\n",
              "0  28.935376  6190.93062 -0.051446       17.0        0.0  0.116685   \n",
              "1  28.935376  6190.93062 -0.051446       17.0        1.0  0.839713   \n",
              "2  28.935376  6190.93062  0.028399       17.0        0.0  0.466730   \n",
              "3  28.935376  6190.93062  0.028399       17.0        4.0  0.939179   \n",
              "4  28.935376  6190.93062 -0.002506       17.0        0.0  0.583403   \n",
              "\n",
              "       aspect  upstream_area       TWI  target  \n",
              "0  270.000000       0.031990  1.042098       0  \n",
              "1  236.480074       0.031990  1.042098       0  \n",
              "2  270.000000       0.031990  1.042098       0  \n",
              "3  240.413746       0.021235  0.258796       1  \n",
              "4  270.000000       0.031990  1.042098       0  "
            ],
            "text/html": [
              "\n",
              "  <div id=\"df-cd16a7d8-8067-48b2-bcbf-842c2c8b0c1e\" class=\"colab-df-container\">\n",
              "    <div>\n",
              "<style scoped>\n",
              "    .dataframe tbody tr th:only-of-type {\n",
              "        vertical-align: middle;\n",
              "    }\n",
              "\n",
              "    .dataframe tbody tr th {\n",
              "        vertical-align: top;\n",
              "    }\n",
              "\n",
              "    .dataframe thead th {\n",
              "        text-align: right;\n",
              "    }\n",
              "</style>\n",
              "<table border=\"1\" class=\"dataframe\">\n",
              "  <thead>\n",
              "    <tr style=\"text-align: right;\">\n",
              "      <th></th>\n",
              "      <th>date</th>\n",
              "      <th>lon</th>\n",
              "      <th>lat</th>\n",
              "      <th>flooded</th>\n",
              "      <th>jrc_perm_water</th>\n",
              "      <th>precip_1d</th>\n",
              "      <th>precip_3d</th>\n",
              "      <th>NDVI</th>\n",
              "      <th>NDWI</th>\n",
              "      <th>landcover</th>\n",
              "      <th>elevation</th>\n",
              "      <th>slope</th>\n",
              "      <th>aspect</th>\n",
              "      <th>upstream_area</th>\n",
              "      <th>TWI</th>\n",
              "      <th>target</th>\n",
              "    </tr>\n",
              "  </thead>\n",
              "  <tbody>\n",
              "    <tr>\n",
              "      <th>0</th>\n",
              "      <td>2003-12-10</td>\n",
              "      <td>120.478677</td>\n",
              "      <td>-6.495942</td>\n",
              "      <td>1.0</td>\n",
              "      <td>1.0</td>\n",
              "      <td>9.645125</td>\n",
              "      <td>28.935376</td>\n",
              "      <td>6190.93062</td>\n",
              "      <td>-0.051446</td>\n",
              "      <td>17.0</td>\n",
              "      <td>0.0</td>\n",
              "      <td>0.116685</td>\n",
              "      <td>270.000000</td>\n",
              "      <td>0.031990</td>\n",
              "      <td>1.042098</td>\n",
              "      <td>0</td>\n",
              "    </tr>\n",
              "    <tr>\n",
              "      <th>1</th>\n",
              "      <td>2003-12-10</td>\n",
              "      <td>120.480923</td>\n",
              "      <td>-6.495942</td>\n",
              "      <td>1.0</td>\n",
              "      <td>1.0</td>\n",
              "      <td>9.645125</td>\n",
              "      <td>28.935376</td>\n",
              "      <td>6190.93062</td>\n",
              "      <td>-0.051446</td>\n",
              "      <td>17.0</td>\n",
              "      <td>1.0</td>\n",
              "      <td>0.839713</td>\n",
              "      <td>236.480074</td>\n",
              "      <td>0.031990</td>\n",
              "      <td>1.042098</td>\n",
              "      <td>0</td>\n",
              "    </tr>\n",
              "    <tr>\n",
              "      <th>2</th>\n",
              "      <td>2003-12-10</td>\n",
              "      <td>120.478677</td>\n",
              "      <td>-6.493697</td>\n",
              "      <td>0.0</td>\n",
              "      <td>1.0</td>\n",
              "      <td>9.645125</td>\n",
              "      <td>28.935376</td>\n",
              "      <td>6190.93062</td>\n",
              "      <td>0.028399</td>\n",
              "      <td>17.0</td>\n",
              "      <td>0.0</td>\n",
              "      <td>0.466730</td>\n",
              "      <td>270.000000</td>\n",
              "      <td>0.031990</td>\n",
              "      <td>1.042098</td>\n",
              "      <td>0</td>\n",
              "    </tr>\n",
              "    <tr>\n",
              "      <th>3</th>\n",
              "      <td>2003-12-10</td>\n",
              "      <td>120.480923</td>\n",
              "      <td>-6.493697</td>\n",
              "      <td>1.0</td>\n",
              "      <td>0.0</td>\n",
              "      <td>9.645125</td>\n",
              "      <td>28.935376</td>\n",
              "      <td>6190.93062</td>\n",
              "      <td>0.028399</td>\n",
              "      <td>17.0</td>\n",
              "      <td>4.0</td>\n",
              "      <td>0.939179</td>\n",
              "      <td>240.413746</td>\n",
              "      <td>0.021235</td>\n",
              "      <td>0.258796</td>\n",
              "      <td>1</td>\n",
              "    </tr>\n",
              "    <tr>\n",
              "      <th>4</th>\n",
              "      <td>2003-12-10</td>\n",
              "      <td>120.478677</td>\n",
              "      <td>-6.491451</td>\n",
              "      <td>0.0</td>\n",
              "      <td>1.0</td>\n",
              "      <td>9.645125</td>\n",
              "      <td>28.935376</td>\n",
              "      <td>6190.93062</td>\n",
              "      <td>-0.002506</td>\n",
              "      <td>17.0</td>\n",
              "      <td>0.0</td>\n",
              "      <td>0.583403</td>\n",
              "      <td>270.000000</td>\n",
              "      <td>0.031990</td>\n",
              "      <td>1.042098</td>\n",
              "      <td>0</td>\n",
              "    </tr>\n",
              "  </tbody>\n",
              "</table>\n",
              "</div>\n",
              "    <div class=\"colab-df-buttons\">\n",
              "\n",
              "  <div class=\"colab-df-container\">\n",
              "    <button class=\"colab-df-convert\" onclick=\"convertToInteractive('df-cd16a7d8-8067-48b2-bcbf-842c2c8b0c1e')\"\n",
              "            title=\"Convert this dataframe to an interactive table.\"\n",
              "            style=\"display:none;\">\n",
              "\n",
              "  <svg xmlns=\"http://www.w3.org/2000/svg\" height=\"24px\" viewBox=\"0 -960 960 960\">\n",
              "    <path d=\"M120-120v-720h720v720H120Zm60-500h600v-160H180v160Zm220 220h160v-160H400v160Zm0 220h160v-160H400v160ZM180-400h160v-160H180v160Zm440 0h160v-160H620v160ZM180-180h160v-160H180v160Zm440 0h160v-160H620v160Z\"/>\n",
              "  </svg>\n",
              "    </button>\n",
              "\n",
              "  <style>\n",
              "    .colab-df-container {\n",
              "      display:flex;\n",
              "      gap: 12px;\n",
              "    }\n",
              "\n",
              "    .colab-df-convert {\n",
              "      background-color: #E8F0FE;\n",
              "      border: none;\n",
              "      border-radius: 50%;\n",
              "      cursor: pointer;\n",
              "      display: none;\n",
              "      fill: #1967D2;\n",
              "      height: 32px;\n",
              "      padding: 0 0 0 0;\n",
              "      width: 32px;\n",
              "    }\n",
              "\n",
              "    .colab-df-convert:hover {\n",
              "      background-color: #E2EBFA;\n",
              "      box-shadow: 0px 1px 2px rgba(60, 64, 67, 0.3), 0px 1px 3px 1px rgba(60, 64, 67, 0.15);\n",
              "      fill: #174EA6;\n",
              "    }\n",
              "\n",
              "    .colab-df-buttons div {\n",
              "      margin-bottom: 4px;\n",
              "    }\n",
              "\n",
              "    [theme=dark] .colab-df-convert {\n",
              "      background-color: #3B4455;\n",
              "      fill: #D2E3FC;\n",
              "    }\n",
              "\n",
              "    [theme=dark] .colab-df-convert:hover {\n",
              "      background-color: #434B5C;\n",
              "      box-shadow: 0px 1px 3px 1px rgba(0, 0, 0, 0.15);\n",
              "      filter: drop-shadow(0px 1px 2px rgba(0, 0, 0, 0.3));\n",
              "      fill: #FFFFFF;\n",
              "    }\n",
              "  </style>\n",
              "\n",
              "    <script>\n",
              "      const buttonEl =\n",
              "        document.querySelector('#df-cd16a7d8-8067-48b2-bcbf-842c2c8b0c1e button.colab-df-convert');\n",
              "      buttonEl.style.display =\n",
              "        google.colab.kernel.accessAllowed ? 'block' : 'none';\n",
              "\n",
              "      async function convertToInteractive(key) {\n",
              "        const element = document.querySelector('#df-cd16a7d8-8067-48b2-bcbf-842c2c8b0c1e');\n",
              "        const dataTable =\n",
              "          await google.colab.kernel.invokeFunction('convertToInteractive',\n",
              "                                                    [key], {});\n",
              "        if (!dataTable) return;\n",
              "\n",
              "        const docLinkHtml = 'Like what you see? Visit the ' +\n",
              "          '<a target=\"_blank\" href=https://colab.research.google.com/notebooks/data_table.ipynb>data table notebook</a>'\n",
              "          + ' to learn more about interactive tables.';\n",
              "        element.innerHTML = '';\n",
              "        dataTable['output_type'] = 'display_data';\n",
              "        await google.colab.output.renderOutput(dataTable, element);\n",
              "        const docLink = document.createElement('div');\n",
              "        docLink.innerHTML = docLinkHtml;\n",
              "        element.appendChild(docLink);\n",
              "      }\n",
              "    </script>\n",
              "  </div>\n",
              "\n",
              "\n",
              "    <div id=\"df-d79b3fcc-da86-4081-bf0f-3002b2bbd98b\">\n",
              "      <button class=\"colab-df-quickchart\" onclick=\"quickchart('df-d79b3fcc-da86-4081-bf0f-3002b2bbd98b')\"\n",
              "                title=\"Suggest charts\"\n",
              "                style=\"display:none;\">\n",
              "\n",
              "<svg xmlns=\"http://www.w3.org/2000/svg\" height=\"24px\"viewBox=\"0 0 24 24\"\n",
              "     width=\"24px\">\n",
              "    <g>\n",
              "        <path d=\"M19 3H5c-1.1 0-2 .9-2 2v14c0 1.1.9 2 2 2h14c1.1 0 2-.9 2-2V5c0-1.1-.9-2-2-2zM9 17H7v-7h2v7zm4 0h-2V7h2v10zm4 0h-2v-4h2v4z\"/>\n",
              "    </g>\n",
              "</svg>\n",
              "      </button>\n",
              "\n",
              "<style>\n",
              "  .colab-df-quickchart {\n",
              "      --bg-color: #E8F0FE;\n",
              "      --fill-color: #1967D2;\n",
              "      --hover-bg-color: #E2EBFA;\n",
              "      --hover-fill-color: #174EA6;\n",
              "      --disabled-fill-color: #AAA;\n",
              "      --disabled-bg-color: #DDD;\n",
              "  }\n",
              "\n",
              "  [theme=dark] .colab-df-quickchart {\n",
              "      --bg-color: #3B4455;\n",
              "      --fill-color: #D2E3FC;\n",
              "      --hover-bg-color: #434B5C;\n",
              "      --hover-fill-color: #FFFFFF;\n",
              "      --disabled-bg-color: #3B4455;\n",
              "      --disabled-fill-color: #666;\n",
              "  }\n",
              "\n",
              "  .colab-df-quickchart {\n",
              "    background-color: var(--bg-color);\n",
              "    border: none;\n",
              "    border-radius: 50%;\n",
              "    cursor: pointer;\n",
              "    display: none;\n",
              "    fill: var(--fill-color);\n",
              "    height: 32px;\n",
              "    padding: 0;\n",
              "    width: 32px;\n",
              "  }\n",
              "\n",
              "  .colab-df-quickchart:hover {\n",
              "    background-color: var(--hover-bg-color);\n",
              "    box-shadow: 0 1px 2px rgba(60, 64, 67, 0.3), 0 1px 3px 1px rgba(60, 64, 67, 0.15);\n",
              "    fill: var(--button-hover-fill-color);\n",
              "  }\n",
              "\n",
              "  .colab-df-quickchart-complete:disabled,\n",
              "  .colab-df-quickchart-complete:disabled:hover {\n",
              "    background-color: var(--disabled-bg-color);\n",
              "    fill: var(--disabled-fill-color);\n",
              "    box-shadow: none;\n",
              "  }\n",
              "\n",
              "  .colab-df-spinner {\n",
              "    border: 2px solid var(--fill-color);\n",
              "    border-color: transparent;\n",
              "    border-bottom-color: var(--fill-color);\n",
              "    animation:\n",
              "      spin 1s steps(1) infinite;\n",
              "  }\n",
              "\n",
              "  @keyframes spin {\n",
              "    0% {\n",
              "      border-color: transparent;\n",
              "      border-bottom-color: var(--fill-color);\n",
              "      border-left-color: var(--fill-color);\n",
              "    }\n",
              "    20% {\n",
              "      border-color: transparent;\n",
              "      border-left-color: var(--fill-color);\n",
              "      border-top-color: var(--fill-color);\n",
              "    }\n",
              "    30% {\n",
              "      border-color: transparent;\n",
              "      border-left-color: var(--fill-color);\n",
              "      border-top-color: var(--fill-color);\n",
              "      border-right-color: var(--fill-color);\n",
              "    }\n",
              "    40% {\n",
              "      border-color: transparent;\n",
              "      border-right-color: var(--fill-color);\n",
              "      border-top-color: var(--fill-color);\n",
              "    }\n",
              "    60% {\n",
              "      border-color: transparent;\n",
              "      border-right-color: var(--fill-color);\n",
              "    }\n",
              "    80% {\n",
              "      border-color: transparent;\n",
              "      border-right-color: var(--fill-color);\n",
              "      border-bottom-color: var(--fill-color);\n",
              "    }\n",
              "    90% {\n",
              "      border-color: transparent;\n",
              "      border-bottom-color: var(--fill-color);\n",
              "    }\n",
              "  }\n",
              "</style>\n",
              "\n",
              "      <script>\n",
              "        async function quickchart(key) {\n",
              "          const quickchartButtonEl =\n",
              "            document.querySelector('#' + key + ' button');\n",
              "          quickchartButtonEl.disabled = true;  // To prevent multiple clicks.\n",
              "          quickchartButtonEl.classList.add('colab-df-spinner');\n",
              "          try {\n",
              "            const charts = await google.colab.kernel.invokeFunction(\n",
              "                'suggestCharts', [key], {});\n",
              "          } catch (error) {\n",
              "            console.error('Error during call to suggestCharts:', error);\n",
              "          }\n",
              "          quickchartButtonEl.classList.remove('colab-df-spinner');\n",
              "          quickchartButtonEl.classList.add('colab-df-quickchart-complete');\n",
              "        }\n",
              "        (() => {\n",
              "          let quickchartButtonEl =\n",
              "            document.querySelector('#df-d79b3fcc-da86-4081-bf0f-3002b2bbd98b button');\n",
              "          quickchartButtonEl.style.display =\n",
              "            google.colab.kernel.accessAllowed ? 'block' : 'none';\n",
              "        })();\n",
              "      </script>\n",
              "    </div>\n",
              "\n",
              "    </div>\n",
              "  </div>\n"
            ],
            "application/vnd.google.colaboratory.intrinsic+json": {
              "type": "dataframe",
              "variable_name": "df"
            }
          },
          "metadata": {},
          "execution_count": 44
        }
      ],
      "source": [
        "df.head()"
      ]
    },
    {
      "cell_type": "code",
      "execution_count": null,
      "metadata": {
        "colab": {
          "base_uri": "https://localhost:8080/"
        },
        "id": "_PnZk0I35bsH",
        "outputId": "e2902057-fa44-4ba0-ac53-88ed0b4cd248"
      },
      "outputs": [
        {
          "output_type": "stream",
          "name": "stdout",
          "text": [
            "<class 'pandas.core.frame.DataFrame'>\n",
            "RangeIndex: 1472156 entries, 0 to 1472155\n",
            "Data columns (total 16 columns):\n",
            " #   Column          Non-Null Count    Dtype  \n",
            "---  ------          --------------    -----  \n",
            " 0   date            1472156 non-null  object \n",
            " 1   lon             1472156 non-null  float64\n",
            " 2   lat             1472156 non-null  float64\n",
            " 3   flooded         1472156 non-null  float64\n",
            " 4   jrc_perm_water  1472156 non-null  float64\n",
            " 5   precip_1d       1472156 non-null  float64\n",
            " 6   precip_3d       1472156 non-null  float64\n",
            " 7   NDVI            1472156 non-null  float64\n",
            " 8   NDWI            1472156 non-null  float64\n",
            " 9   landcover       1472156 non-null  float64\n",
            " 10  elevation       1472156 non-null  float64\n",
            " 11  slope           1472156 non-null  float64\n",
            " 12  aspect          1472156 non-null  float64\n",
            " 13  upstream_area   1472156 non-null  float64\n",
            " 14  TWI             1472156 non-null  float64\n",
            " 15  target          1472156 non-null  int64  \n",
            "dtypes: float64(14), int64(1), object(1)\n",
            "memory usage: 179.7+ MB\n"
          ]
        }
      ],
      "source": [
        "df.info()"
      ]
    },
    {
      "cell_type": "code",
      "execution_count": null,
      "metadata": {
        "colab": {
          "base_uri": "https://localhost:8080/",
          "height": 337
        },
        "id": "wT-iq_F65d1A",
        "outputId": "ed8e39ab-fadf-4bab-e1a8-85fa0f8990fb"
      },
      "outputs": [
        {
          "output_type": "execute_result",
          "data": {
            "text/plain": [
              "                lon           lat       flooded  jrc_perm_water     precip_1d  \\\n",
              "count  1.472156e+06  1.472156e+06  1.472156e+06    1.472156e+06  1.472156e+06   \n",
              "mean   1.201739e+02 -4.000813e+00  8.218355e-02    7.043955e-02  1.156118e+01   \n",
              "std    5.081198e-01  1.043846e+00  2.746442e-01    2.558864e-01  1.422639e+01   \n",
              "min    1.193535e+02 -6.495942e+00  0.000000e+00    0.000000e+00  0.000000e+00   \n",
              "25%    1.198252e+02 -4.838551e+00  0.000000e+00    0.000000e+00  0.000000e+00   \n",
              "50%    1.201373e+02 -4.048033e+00  0.000000e+00    0.000000e+00  7.655426e+00   \n",
              "75%    1.203462e+02 -2.895944e+00  0.000000e+00    0.000000e+00  1.939188e+01   \n",
              "max    1.217925e+02 -1.887585e+00  1.000000e+00    1.000000e+00  1.072884e+02   \n",
              "\n",
              "          precip_3d          NDVI          NDWI     landcover     elevation  \\\n",
              "count  1.472156e+06  1.472156e+06  1.472156e+06  1.472156e+06  1.472156e+06   \n",
              "mean   4.201858e+01  6.190931e+03  2.533618e-01  1.057353e+01  1.832088e+02   \n",
              "std    3.113080e+01  1.927959e+03  1.095850e-01  4.040451e+00  3.597934e+02   \n",
              "min    0.000000e+00 -2.000000e+03 -3.859591e-01  1.000000e+00 -5.000000e+00   \n",
              "25%    2.084535e+01  5.168000e+03  1.910339e-01  8.000000e+00  1.400000e+01   \n",
              "50%    3.885799e+01  6.628000e+03  2.578638e-01  1.200000e+01  3.800000e+01   \n",
              "75%    5.886799e+01  7.669000e+03  3.270318e-01  1.400000e+01  1.480000e+02   \n",
              "max    2.202191e+02  1.000000e+04  6.086701e-01  1.700000e+01  3.278000e+03   \n",
              "\n",
              "              slope        aspect  upstream_area           TWI        target  \n",
              "count  1.472156e+06  1.472156e+06   1.472156e+06  1.472156e+06  1.472156e+06  \n",
              "mean   1.659294e+00  1.604946e+02   1.143953e+01  1.675676e+00  3.377359e-02  \n",
              "std    2.254702e+00  1.046169e+02   1.255950e+02  2.771383e+00  1.806460e-01  \n",
              "min    0.000000e+00  0.000000e+00   8.494144e-03 -4.436093e+00  0.000000e+00  \n",
              "25%    3.487071e-01  7.161426e+01   1.278535e-02 -2.948727e-01  0.000000e+00  \n",
              "50%    8.442494e-01  1.593614e+02   3.198997e-02  1.042098e+00  0.000000e+00  \n",
              "75%    2.093728e+00  2.495221e+02   2.262875e-01  3.124817e+00  0.000000e+00  \n",
              "max    4.809125e+01  3.593481e+02   5.128528e+03  1.499660e+01  1.000000e+00  "
            ],
            "text/html": [
              "\n",
              "  <div id=\"df-6d80429e-df54-4176-8e08-049c47019484\" class=\"colab-df-container\">\n",
              "    <div>\n",
              "<style scoped>\n",
              "    .dataframe tbody tr th:only-of-type {\n",
              "        vertical-align: middle;\n",
              "    }\n",
              "\n",
              "    .dataframe tbody tr th {\n",
              "        vertical-align: top;\n",
              "    }\n",
              "\n",
              "    .dataframe thead th {\n",
              "        text-align: right;\n",
              "    }\n",
              "</style>\n",
              "<table border=\"1\" class=\"dataframe\">\n",
              "  <thead>\n",
              "    <tr style=\"text-align: right;\">\n",
              "      <th></th>\n",
              "      <th>lon</th>\n",
              "      <th>lat</th>\n",
              "      <th>flooded</th>\n",
              "      <th>jrc_perm_water</th>\n",
              "      <th>precip_1d</th>\n",
              "      <th>precip_3d</th>\n",
              "      <th>NDVI</th>\n",
              "      <th>NDWI</th>\n",
              "      <th>landcover</th>\n",
              "      <th>elevation</th>\n",
              "      <th>slope</th>\n",
              "      <th>aspect</th>\n",
              "      <th>upstream_area</th>\n",
              "      <th>TWI</th>\n",
              "      <th>target</th>\n",
              "    </tr>\n",
              "  </thead>\n",
              "  <tbody>\n",
              "    <tr>\n",
              "      <th>count</th>\n",
              "      <td>1.472156e+06</td>\n",
              "      <td>1.472156e+06</td>\n",
              "      <td>1.472156e+06</td>\n",
              "      <td>1.472156e+06</td>\n",
              "      <td>1.472156e+06</td>\n",
              "      <td>1.472156e+06</td>\n",
              "      <td>1.472156e+06</td>\n",
              "      <td>1.472156e+06</td>\n",
              "      <td>1.472156e+06</td>\n",
              "      <td>1.472156e+06</td>\n",
              "      <td>1.472156e+06</td>\n",
              "      <td>1.472156e+06</td>\n",
              "      <td>1.472156e+06</td>\n",
              "      <td>1.472156e+06</td>\n",
              "      <td>1.472156e+06</td>\n",
              "    </tr>\n",
              "    <tr>\n",
              "      <th>mean</th>\n",
              "      <td>1.201739e+02</td>\n",
              "      <td>-4.000813e+00</td>\n",
              "      <td>8.218355e-02</td>\n",
              "      <td>7.043955e-02</td>\n",
              "      <td>1.156118e+01</td>\n",
              "      <td>4.201858e+01</td>\n",
              "      <td>6.190931e+03</td>\n",
              "      <td>2.533618e-01</td>\n",
              "      <td>1.057353e+01</td>\n",
              "      <td>1.832088e+02</td>\n",
              "      <td>1.659294e+00</td>\n",
              "      <td>1.604946e+02</td>\n",
              "      <td>1.143953e+01</td>\n",
              "      <td>1.675676e+00</td>\n",
              "      <td>3.377359e-02</td>\n",
              "    </tr>\n",
              "    <tr>\n",
              "      <th>std</th>\n",
              "      <td>5.081198e-01</td>\n",
              "      <td>1.043846e+00</td>\n",
              "      <td>2.746442e-01</td>\n",
              "      <td>2.558864e-01</td>\n",
              "      <td>1.422639e+01</td>\n",
              "      <td>3.113080e+01</td>\n",
              "      <td>1.927959e+03</td>\n",
              "      <td>1.095850e-01</td>\n",
              "      <td>4.040451e+00</td>\n",
              "      <td>3.597934e+02</td>\n",
              "      <td>2.254702e+00</td>\n",
              "      <td>1.046169e+02</td>\n",
              "      <td>1.255950e+02</td>\n",
              "      <td>2.771383e+00</td>\n",
              "      <td>1.806460e-01</td>\n",
              "    </tr>\n",
              "    <tr>\n",
              "      <th>min</th>\n",
              "      <td>1.193535e+02</td>\n",
              "      <td>-6.495942e+00</td>\n",
              "      <td>0.000000e+00</td>\n",
              "      <td>0.000000e+00</td>\n",
              "      <td>0.000000e+00</td>\n",
              "      <td>0.000000e+00</td>\n",
              "      <td>-2.000000e+03</td>\n",
              "      <td>-3.859591e-01</td>\n",
              "      <td>1.000000e+00</td>\n",
              "      <td>-5.000000e+00</td>\n",
              "      <td>0.000000e+00</td>\n",
              "      <td>0.000000e+00</td>\n",
              "      <td>8.494144e-03</td>\n",
              "      <td>-4.436093e+00</td>\n",
              "      <td>0.000000e+00</td>\n",
              "    </tr>\n",
              "    <tr>\n",
              "      <th>25%</th>\n",
              "      <td>1.198252e+02</td>\n",
              "      <td>-4.838551e+00</td>\n",
              "      <td>0.000000e+00</td>\n",
              "      <td>0.000000e+00</td>\n",
              "      <td>0.000000e+00</td>\n",
              "      <td>2.084535e+01</td>\n",
              "      <td>5.168000e+03</td>\n",
              "      <td>1.910339e-01</td>\n",
              "      <td>8.000000e+00</td>\n",
              "      <td>1.400000e+01</td>\n",
              "      <td>3.487071e-01</td>\n",
              "      <td>7.161426e+01</td>\n",
              "      <td>1.278535e-02</td>\n",
              "      <td>-2.948727e-01</td>\n",
              "      <td>0.000000e+00</td>\n",
              "    </tr>\n",
              "    <tr>\n",
              "      <th>50%</th>\n",
              "      <td>1.201373e+02</td>\n",
              "      <td>-4.048033e+00</td>\n",
              "      <td>0.000000e+00</td>\n",
              "      <td>0.000000e+00</td>\n",
              "      <td>7.655426e+00</td>\n",
              "      <td>3.885799e+01</td>\n",
              "      <td>6.628000e+03</td>\n",
              "      <td>2.578638e-01</td>\n",
              "      <td>1.200000e+01</td>\n",
              "      <td>3.800000e+01</td>\n",
              "      <td>8.442494e-01</td>\n",
              "      <td>1.593614e+02</td>\n",
              "      <td>3.198997e-02</td>\n",
              "      <td>1.042098e+00</td>\n",
              "      <td>0.000000e+00</td>\n",
              "    </tr>\n",
              "    <tr>\n",
              "      <th>75%</th>\n",
              "      <td>1.203462e+02</td>\n",
              "      <td>-2.895944e+00</td>\n",
              "      <td>0.000000e+00</td>\n",
              "      <td>0.000000e+00</td>\n",
              "      <td>1.939188e+01</td>\n",
              "      <td>5.886799e+01</td>\n",
              "      <td>7.669000e+03</td>\n",
              "      <td>3.270318e-01</td>\n",
              "      <td>1.400000e+01</td>\n",
              "      <td>1.480000e+02</td>\n",
              "      <td>2.093728e+00</td>\n",
              "      <td>2.495221e+02</td>\n",
              "      <td>2.262875e-01</td>\n",
              "      <td>3.124817e+00</td>\n",
              "      <td>0.000000e+00</td>\n",
              "    </tr>\n",
              "    <tr>\n",
              "      <th>max</th>\n",
              "      <td>1.217925e+02</td>\n",
              "      <td>-1.887585e+00</td>\n",
              "      <td>1.000000e+00</td>\n",
              "      <td>1.000000e+00</td>\n",
              "      <td>1.072884e+02</td>\n",
              "      <td>2.202191e+02</td>\n",
              "      <td>1.000000e+04</td>\n",
              "      <td>6.086701e-01</td>\n",
              "      <td>1.700000e+01</td>\n",
              "      <td>3.278000e+03</td>\n",
              "      <td>4.809125e+01</td>\n",
              "      <td>3.593481e+02</td>\n",
              "      <td>5.128528e+03</td>\n",
              "      <td>1.499660e+01</td>\n",
              "      <td>1.000000e+00</td>\n",
              "    </tr>\n",
              "  </tbody>\n",
              "</table>\n",
              "</div>\n",
              "    <div class=\"colab-df-buttons\">\n",
              "\n",
              "  <div class=\"colab-df-container\">\n",
              "    <button class=\"colab-df-convert\" onclick=\"convertToInteractive('df-6d80429e-df54-4176-8e08-049c47019484')\"\n",
              "            title=\"Convert this dataframe to an interactive table.\"\n",
              "            style=\"display:none;\">\n",
              "\n",
              "  <svg xmlns=\"http://www.w3.org/2000/svg\" height=\"24px\" viewBox=\"0 -960 960 960\">\n",
              "    <path d=\"M120-120v-720h720v720H120Zm60-500h600v-160H180v160Zm220 220h160v-160H400v160Zm0 220h160v-160H400v160ZM180-400h160v-160H180v160Zm440 0h160v-160H620v160ZM180-180h160v-160H180v160Zm440 0h160v-160H620v160Z\"/>\n",
              "  </svg>\n",
              "    </button>\n",
              "\n",
              "  <style>\n",
              "    .colab-df-container {\n",
              "      display:flex;\n",
              "      gap: 12px;\n",
              "    }\n",
              "\n",
              "    .colab-df-convert {\n",
              "      background-color: #E8F0FE;\n",
              "      border: none;\n",
              "      border-radius: 50%;\n",
              "      cursor: pointer;\n",
              "      display: none;\n",
              "      fill: #1967D2;\n",
              "      height: 32px;\n",
              "      padding: 0 0 0 0;\n",
              "      width: 32px;\n",
              "    }\n",
              "\n",
              "    .colab-df-convert:hover {\n",
              "      background-color: #E2EBFA;\n",
              "      box-shadow: 0px 1px 2px rgba(60, 64, 67, 0.3), 0px 1px 3px 1px rgba(60, 64, 67, 0.15);\n",
              "      fill: #174EA6;\n",
              "    }\n",
              "\n",
              "    .colab-df-buttons div {\n",
              "      margin-bottom: 4px;\n",
              "    }\n",
              "\n",
              "    [theme=dark] .colab-df-convert {\n",
              "      background-color: #3B4455;\n",
              "      fill: #D2E3FC;\n",
              "    }\n",
              "\n",
              "    [theme=dark] .colab-df-convert:hover {\n",
              "      background-color: #434B5C;\n",
              "      box-shadow: 0px 1px 3px 1px rgba(0, 0, 0, 0.15);\n",
              "      filter: drop-shadow(0px 1px 2px rgba(0, 0, 0, 0.3));\n",
              "      fill: #FFFFFF;\n",
              "    }\n",
              "  </style>\n",
              "\n",
              "    <script>\n",
              "      const buttonEl =\n",
              "        document.querySelector('#df-6d80429e-df54-4176-8e08-049c47019484 button.colab-df-convert');\n",
              "      buttonEl.style.display =\n",
              "        google.colab.kernel.accessAllowed ? 'block' : 'none';\n",
              "\n",
              "      async function convertToInteractive(key) {\n",
              "        const element = document.querySelector('#df-6d80429e-df54-4176-8e08-049c47019484');\n",
              "        const dataTable =\n",
              "          await google.colab.kernel.invokeFunction('convertToInteractive',\n",
              "                                                    [key], {});\n",
              "        if (!dataTable) return;\n",
              "\n",
              "        const docLinkHtml = 'Like what you see? Visit the ' +\n",
              "          '<a target=\"_blank\" href=https://colab.research.google.com/notebooks/data_table.ipynb>data table notebook</a>'\n",
              "          + ' to learn more about interactive tables.';\n",
              "        element.innerHTML = '';\n",
              "        dataTable['output_type'] = 'display_data';\n",
              "        await google.colab.output.renderOutput(dataTable, element);\n",
              "        const docLink = document.createElement('div');\n",
              "        docLink.innerHTML = docLinkHtml;\n",
              "        element.appendChild(docLink);\n",
              "      }\n",
              "    </script>\n",
              "  </div>\n",
              "\n",
              "\n",
              "    <div id=\"df-08c8305e-9793-41cd-a566-1f4465a32bc1\">\n",
              "      <button class=\"colab-df-quickchart\" onclick=\"quickchart('df-08c8305e-9793-41cd-a566-1f4465a32bc1')\"\n",
              "                title=\"Suggest charts\"\n",
              "                style=\"display:none;\">\n",
              "\n",
              "<svg xmlns=\"http://www.w3.org/2000/svg\" height=\"24px\"viewBox=\"0 0 24 24\"\n",
              "     width=\"24px\">\n",
              "    <g>\n",
              "        <path d=\"M19 3H5c-1.1 0-2 .9-2 2v14c0 1.1.9 2 2 2h14c1.1 0 2-.9 2-2V5c0-1.1-.9-2-2-2zM9 17H7v-7h2v7zm4 0h-2V7h2v10zm4 0h-2v-4h2v4z\"/>\n",
              "    </g>\n",
              "</svg>\n",
              "      </button>\n",
              "\n",
              "<style>\n",
              "  .colab-df-quickchart {\n",
              "      --bg-color: #E8F0FE;\n",
              "      --fill-color: #1967D2;\n",
              "      --hover-bg-color: #E2EBFA;\n",
              "      --hover-fill-color: #174EA6;\n",
              "      --disabled-fill-color: #AAA;\n",
              "      --disabled-bg-color: #DDD;\n",
              "  }\n",
              "\n",
              "  [theme=dark] .colab-df-quickchart {\n",
              "      --bg-color: #3B4455;\n",
              "      --fill-color: #D2E3FC;\n",
              "      --hover-bg-color: #434B5C;\n",
              "      --hover-fill-color: #FFFFFF;\n",
              "      --disabled-bg-color: #3B4455;\n",
              "      --disabled-fill-color: #666;\n",
              "  }\n",
              "\n",
              "  .colab-df-quickchart {\n",
              "    background-color: var(--bg-color);\n",
              "    border: none;\n",
              "    border-radius: 50%;\n",
              "    cursor: pointer;\n",
              "    display: none;\n",
              "    fill: var(--fill-color);\n",
              "    height: 32px;\n",
              "    padding: 0;\n",
              "    width: 32px;\n",
              "  }\n",
              "\n",
              "  .colab-df-quickchart:hover {\n",
              "    background-color: var(--hover-bg-color);\n",
              "    box-shadow: 0 1px 2px rgba(60, 64, 67, 0.3), 0 1px 3px 1px rgba(60, 64, 67, 0.15);\n",
              "    fill: var(--button-hover-fill-color);\n",
              "  }\n",
              "\n",
              "  .colab-df-quickchart-complete:disabled,\n",
              "  .colab-df-quickchart-complete:disabled:hover {\n",
              "    background-color: var(--disabled-bg-color);\n",
              "    fill: var(--disabled-fill-color);\n",
              "    box-shadow: none;\n",
              "  }\n",
              "\n",
              "  .colab-df-spinner {\n",
              "    border: 2px solid var(--fill-color);\n",
              "    border-color: transparent;\n",
              "    border-bottom-color: var(--fill-color);\n",
              "    animation:\n",
              "      spin 1s steps(1) infinite;\n",
              "  }\n",
              "\n",
              "  @keyframes spin {\n",
              "    0% {\n",
              "      border-color: transparent;\n",
              "      border-bottom-color: var(--fill-color);\n",
              "      border-left-color: var(--fill-color);\n",
              "    }\n",
              "    20% {\n",
              "      border-color: transparent;\n",
              "      border-left-color: var(--fill-color);\n",
              "      border-top-color: var(--fill-color);\n",
              "    }\n",
              "    30% {\n",
              "      border-color: transparent;\n",
              "      border-left-color: var(--fill-color);\n",
              "      border-top-color: var(--fill-color);\n",
              "      border-right-color: var(--fill-color);\n",
              "    }\n",
              "    40% {\n",
              "      border-color: transparent;\n",
              "      border-right-color: var(--fill-color);\n",
              "      border-top-color: var(--fill-color);\n",
              "    }\n",
              "    60% {\n",
              "      border-color: transparent;\n",
              "      border-right-color: var(--fill-color);\n",
              "    }\n",
              "    80% {\n",
              "      border-color: transparent;\n",
              "      border-right-color: var(--fill-color);\n",
              "      border-bottom-color: var(--fill-color);\n",
              "    }\n",
              "    90% {\n",
              "      border-color: transparent;\n",
              "      border-bottom-color: var(--fill-color);\n",
              "    }\n",
              "  }\n",
              "</style>\n",
              "\n",
              "      <script>\n",
              "        async function quickchart(key) {\n",
              "          const quickchartButtonEl =\n",
              "            document.querySelector('#' + key + ' button');\n",
              "          quickchartButtonEl.disabled = true;  // To prevent multiple clicks.\n",
              "          quickchartButtonEl.classList.add('colab-df-spinner');\n",
              "          try {\n",
              "            const charts = await google.colab.kernel.invokeFunction(\n",
              "                'suggestCharts', [key], {});\n",
              "          } catch (error) {\n",
              "            console.error('Error during call to suggestCharts:', error);\n",
              "          }\n",
              "          quickchartButtonEl.classList.remove('colab-df-spinner');\n",
              "          quickchartButtonEl.classList.add('colab-df-quickchart-complete');\n",
              "        }\n",
              "        (() => {\n",
              "          let quickchartButtonEl =\n",
              "            document.querySelector('#df-08c8305e-9793-41cd-a566-1f4465a32bc1 button');\n",
              "          quickchartButtonEl.style.display =\n",
              "            google.colab.kernel.accessAllowed ? 'block' : 'none';\n",
              "        })();\n",
              "      </script>\n",
              "    </div>\n",
              "\n",
              "    </div>\n",
              "  </div>\n"
            ],
            "application/vnd.google.colaboratory.intrinsic+json": {
              "type": "dataframe",
              "summary": "{\n  \"name\": \"df\",\n  \"rows\": 8,\n  \"fields\": [\n    {\n      \"column\": \"lon\",\n      \"properties\": {\n        \"dtype\": \"number\",\n        \"std\": 520449.2735615084,\n        \"min\": 0.5081197871715174,\n        \"max\": 1472156.0,\n        \"num_unique_values\": 8,\n        \"samples\": [\n          120.17387901618727,\n          120.137317415829,\n          1472156.0\n        ],\n        \"semantic_type\": \"\",\n        \"description\": \"\"\n      }\n    },\n    {\n      \"column\": \"lat\",\n      \"properties\": {\n        \"dtype\": \"number\",\n        \"std\": 520486.9131759753,\n        \"min\": -6.49594239828929,\n        \"max\": 1472156.0,\n        \"num_unique_values\": 8,\n        \"samples\": [\n          -4.000813413024957,\n          -4.04803324906359,\n          1472156.0\n        ],\n        \"semantic_type\": \"\",\n        \"description\": \"\"\n      }\n    },\n    {\n      \"column\": \"flooded\",\n      \"properties\": {\n        \"dtype\": \"number\",\n        \"std\": 520485.6767521916,\n        \"min\": 0.0,\n        \"max\": 1472156.0,\n        \"num_unique_values\": 5,\n        \"samples\": [\n          0.08218354576553029,\n          1.0,\n          0.27464424590129016\n        ],\n        \"semantic_type\": \"\",\n        \"description\": \"\"\n      }\n    },\n    {\n      \"column\": \"jrc_perm_water\",\n      \"properties\": {\n        \"dtype\": \"number\",\n        \"std\": 520485.6782927664,\n        \"min\": 0.0,\n        \"max\": 1472156.0,\n        \"num_unique_values\": 5,\n        \"samples\": [\n          0.07043954580900394,\n          1.0,\n          0.2558864214348033\n        ],\n        \"semantic_type\": \"\",\n        \"description\": \"\"\n      }\n    },\n    {\n      \"column\": \"precip_1d\",\n      \"properties\": {\n        \"dtype\": \"number\",\n        \"std\": 520477.65901860583,\n        \"min\": 0.0,\n        \"max\": 1472156.0,\n        \"num_unique_values\": 7,\n        \"samples\": [\n          1472156.0,\n          11.561182556523791,\n          19.3918762207031\n        ],\n        \"semantic_type\": \"\",\n        \"description\": \"\"\n      }\n    },\n    {\n      \"column\": \"precip_3d\",\n      \"properties\": {\n        \"dtype\": \"number\",\n        \"std\": 520464.9436271913,\n        \"min\": 0.0,\n        \"max\": 1472156.0,\n        \"num_unique_values\": 8,\n        \"samples\": [\n          42.01858452334037,\n          38.8579902648926,\n          1472156.0\n        ],\n        \"semantic_type\": \"\",\n        \"description\": \"\"\n      }\n    },\n    {\n      \"column\": \"NDVI\",\n      \"properties\": {\n        \"dtype\": \"number\",\n        \"std\": 518701.51590251504,\n        \"min\": -2000.0,\n        \"max\": 1472156.0,\n        \"num_unique_values\": 8,\n        \"samples\": [\n          6190.930619570149,\n          6628.0,\n          1472156.0\n        ],\n        \"semantic_type\": \"\",\n        \"description\": \"\"\n      }\n    },\n    {\n      \"column\": \"NDWI\",\n      \"properties\": {\n        \"dtype\": \"number\",\n        \"std\": 520485.67651176447,\n        \"min\": -0.385959088802338,\n        \"max\": 1472156.0,\n        \"num_unique_values\": 8,\n        \"samples\": [\n          0.2533618457999059,\n          0.257863789796829,\n          1472156.0\n        ],\n        \"semantic_type\": \"\",\n        \"description\": \"\"\n      }\n    },\n    {\n      \"column\": \"landcover\",\n      \"properties\": {\n        \"dtype\": \"number\",\n        \"std\": 520482.38079411426,\n        \"min\": 1.0,\n        \"max\": 1472156.0,\n        \"num_unique_values\": 8,\n        \"samples\": [\n          10.573526175215127,\n          12.0,\n          1472156.0\n        ],\n        \"semantic_type\": \"\",\n        \"description\": \"\"\n      }\n    },\n    {\n      \"column\": \"elevation\",\n      \"properties\": {\n        \"dtype\": \"number\",\n        \"std\": 520284.0910361996,\n        \"min\": -5.0,\n        \"max\": 1472156.0,\n        \"num_unique_values\": 8,\n        \"samples\": [\n          183.2088318085855,\n          38.0,\n          1472156.0\n        ],\n        \"semantic_type\": \"\",\n        \"description\": \"\"\n      }\n    },\n    {\n      \"column\": \"slope\",\n      \"properties\": {\n        \"dtype\": \"number\",\n        \"std\": 520482.9528773745,\n        \"min\": 0.0,\n        \"max\": 1472156.0,\n        \"num_unique_values\": 8,\n        \"samples\": [\n          1.6592942206863743,\n          0.844249427318573,\n          1472156.0\n        ],\n        \"semantic_type\": \"\",\n        \"description\": \"\"\n      }\n    },\n    {\n      \"column\": \"aspect\",\n      \"properties\": {\n        \"dtype\": \"number\",\n        \"std\": 520429.9480642169,\n        \"min\": 0.0,\n        \"max\": 1472156.0,\n        \"num_unique_values\": 8,\n        \"samples\": [\n          160.49457628817976,\n          159.36144718749551,\n          1472156.0\n        ],\n        \"semantic_type\": \"\",\n        \"description\": \"\"\n      }\n    },\n    {\n      \"column\": \"upstream_area\",\n      \"properties\": {\n        \"dtype\": \"number\",\n        \"std\": 520222.8497321334,\n        \"min\": 0.0084941443055868,\n        \"max\": 1472156.0,\n        \"num_unique_values\": 8,\n        \"samples\": [\n          11.43952835638181,\n          0.0319899730384349,\n          1472156.0\n        ],\n        \"semantic_type\": \"\",\n        \"description\": \"\"\n      }\n    },\n    {\n      \"column\": \"TWI\",\n      \"properties\": {\n        \"dtype\": \"number\",\n        \"std\": 520484.7917476093,\n        \"min\": -4.43609325324083,\n        \"max\": 1472156.0,\n        \"num_unique_values\": 8,\n        \"samples\": [\n          1.6756762345218645,\n          1.04209752230915,\n          1472156.0\n        ],\n        \"semantic_type\": \"\",\n        \"description\": \"\"\n      }\n    },\n    {\n      \"column\": \"target\",\n      \"properties\": {\n        \"dtype\": \"number\",\n        \"std\": 520485.6839448946,\n        \"min\": 0.0,\n        \"max\": 1472156.0,\n        \"num_unique_values\": 5,\n        \"samples\": [\n          0.03377359464621956,\n          1.0,\n          0.18064595516486381\n        ],\n        \"semantic_type\": \"\",\n        \"description\": \"\"\n      }\n    }\n  ]\n}"
            }
          },
          "metadata": {},
          "execution_count": 46
        }
      ],
      "source": [
        "df.describe()"
      ]
    },
    {
      "cell_type": "code",
      "execution_count": null,
      "metadata": {
        "colab": {
          "base_uri": "https://localhost:8080/",
          "height": 585
        },
        "id": "Y3B9LSHB5gl5",
        "outputId": "dfc0e4b6-f4e9-4102-97aa-a1e00e379a70"
      },
      "outputs": [
        {
          "output_type": "execute_result",
          "data": {
            "text/plain": [
              "date              0\n",
              "lon               0\n",
              "lat               0\n",
              "flooded           0\n",
              "jrc_perm_water    0\n",
              "precip_1d         0\n",
              "precip_3d         0\n",
              "NDVI              0\n",
              "NDWI              0\n",
              "landcover         0\n",
              "elevation         0\n",
              "slope             0\n",
              "aspect            0\n",
              "upstream_area     0\n",
              "TWI               0\n",
              "target            0\n",
              "dtype: int64"
            ],
            "text/html": [
              "<div>\n",
              "<style scoped>\n",
              "    .dataframe tbody tr th:only-of-type {\n",
              "        vertical-align: middle;\n",
              "    }\n",
              "\n",
              "    .dataframe tbody tr th {\n",
              "        vertical-align: top;\n",
              "    }\n",
              "\n",
              "    .dataframe thead th {\n",
              "        text-align: right;\n",
              "    }\n",
              "</style>\n",
              "<table border=\"1\" class=\"dataframe\">\n",
              "  <thead>\n",
              "    <tr style=\"text-align: right;\">\n",
              "      <th></th>\n",
              "      <th>0</th>\n",
              "    </tr>\n",
              "  </thead>\n",
              "  <tbody>\n",
              "    <tr>\n",
              "      <th>date</th>\n",
              "      <td>0</td>\n",
              "    </tr>\n",
              "    <tr>\n",
              "      <th>lon</th>\n",
              "      <td>0</td>\n",
              "    </tr>\n",
              "    <tr>\n",
              "      <th>lat</th>\n",
              "      <td>0</td>\n",
              "    </tr>\n",
              "    <tr>\n",
              "      <th>flooded</th>\n",
              "      <td>0</td>\n",
              "    </tr>\n",
              "    <tr>\n",
              "      <th>jrc_perm_water</th>\n",
              "      <td>0</td>\n",
              "    </tr>\n",
              "    <tr>\n",
              "      <th>precip_1d</th>\n",
              "      <td>0</td>\n",
              "    </tr>\n",
              "    <tr>\n",
              "      <th>precip_3d</th>\n",
              "      <td>0</td>\n",
              "    </tr>\n",
              "    <tr>\n",
              "      <th>NDVI</th>\n",
              "      <td>0</td>\n",
              "    </tr>\n",
              "    <tr>\n",
              "      <th>NDWI</th>\n",
              "      <td>0</td>\n",
              "    </tr>\n",
              "    <tr>\n",
              "      <th>landcover</th>\n",
              "      <td>0</td>\n",
              "    </tr>\n",
              "    <tr>\n",
              "      <th>elevation</th>\n",
              "      <td>0</td>\n",
              "    </tr>\n",
              "    <tr>\n",
              "      <th>slope</th>\n",
              "      <td>0</td>\n",
              "    </tr>\n",
              "    <tr>\n",
              "      <th>aspect</th>\n",
              "      <td>0</td>\n",
              "    </tr>\n",
              "    <tr>\n",
              "      <th>upstream_area</th>\n",
              "      <td>0</td>\n",
              "    </tr>\n",
              "    <tr>\n",
              "      <th>TWI</th>\n",
              "      <td>0</td>\n",
              "    </tr>\n",
              "    <tr>\n",
              "      <th>target</th>\n",
              "      <td>0</td>\n",
              "    </tr>\n",
              "  </tbody>\n",
              "</table>\n",
              "</div><br><label><b>dtype:</b> int64</label>"
            ]
          },
          "metadata": {},
          "execution_count": 47
        }
      ],
      "source": [
        "df.isnull().sum()"
      ]
    },
    {
      "cell_type": "code",
      "execution_count": null,
      "metadata": {
        "colab": {
          "base_uri": "https://localhost:8080/"
        },
        "id": "DBZ8cb7f5jqP",
        "outputId": "9c16943c-d9c9-49e9-c407-255c95d9a2aa"
      },
      "outputs": [
        {
          "output_type": "stream",
          "name": "stdout",
          "text": [
            "target\n",
            "0    1422436\n",
            "1      49720\n",
            "Name: count, dtype: int64\n"
          ]
        }
      ],
      "source": [
        "print(df['target'].value_counts())"
      ]
    },
    {
      "cell_type": "code",
      "execution_count": null,
      "metadata": {
        "id": "vXc-8eSTeO3a"
      },
      "outputs": [],
      "source": [
        "#Ubah kolom date ke datetime\n",
        "df['date'] = pd.to_datetime(df['date'])"
      ]
    },
    {
      "cell_type": "code",
      "execution_count": null,
      "metadata": {
        "colab": {
          "base_uri": "https://localhost:8080/"
        },
        "id": "RFzqQSwz9Ukl",
        "outputId": "e82282b4-5927-47d4-b656-243e56030650"
      },
      "outputs": [
        {
          "output_type": "stream",
          "name": "stdout",
          "text": [
            "Jumlah data sebelum pembersihan: 1472156 baris\n"
          ]
        }
      ],
      "source": [
        "print(f\"Jumlah data sebelum pembersihan: {df.shape[0]} baris\")"
      ]
    },
    {
      "cell_type": "code",
      "execution_count": null,
      "metadata": {
        "colab": {
          "base_uri": "https://localhost:8080/"
        },
        "id": "iKaIHlCw6Gyl",
        "outputId": "e4bc58b2-9ed4-4091-b30c-d8eb99a9c7ec"
      },
      "outputs": [
        {
          "output_type": "stream",
          "name": "stdout",
          "text": [
            "              date         lon       lat  flooded  jrc_perm_water  precip_1d  \\\n",
            "1583    2003-12-10  119.362520 -5.404489      1.0             0.0  21.956064   \n",
            "7472    2003-12-10  119.445615 -5.137241      0.0             0.0  21.357765   \n",
            "9303    2003-12-10  119.506251 -5.069867      0.0             0.0  24.430202   \n",
            "9410    2003-12-10  119.479301 -5.065375      1.0             0.0  13.373850   \n",
            "10243   2003-12-10  119.481547 -5.029443      1.0             1.0  13.144815   \n",
            "...            ...         ...       ...      ...             ...        ...   \n",
            "1436443 2015-02-05  119.362520 -5.404489      0.0             0.0   0.000000   \n",
            "1447745 2015-02-05  121.060336 -2.599500      0.0             1.0  22.856524   \n",
            "1447953 2015-02-05  121.044616 -2.592762      0.0             0.0  28.789270   \n",
            "1448115 2015-02-05  121.049107 -2.588271      0.0             1.0  28.789270   \n",
            "1455868 2015-02-05  119.656719 -5.653772      1.0             0.0  16.066761   \n",
            "\n",
            "         precip_3d        NDVI      NDWI  landcover  elevation     slope  \\\n",
            "1583     87.824257  7307.00000  0.158761       11.0       -3.0  0.116454   \n",
            "7472     85.431061  1493.00000  0.145468       13.0       -1.0  0.580504   \n",
            "9303     85.505703  1605.50000  0.157086        9.0       -1.0  0.366762   \n",
            "9410     66.869247   -74.00000 -0.003696       17.0       -1.0  0.347805   \n",
            "10243    65.724072  6190.93062 -0.038276       17.0       -1.0  0.418505   \n",
            "...            ...         ...       ...        ...        ...       ...   \n",
            "1436443  48.393379  2147.50000  0.118664       11.0       -3.0  0.116454   \n",
            "1447745  45.713047  4979.50000  0.219032       11.0       -1.0  1.164997   \n",
            "1447953  50.381223  5932.50000  0.263021       11.0       -1.0  0.778314   \n",
            "1448115  50.381223  6771.50000  0.279903       11.0       -1.0  0.232108   \n",
            "1455868  32.133522  3672.50000  0.096991       17.0       -1.0  0.939125   \n",
            "\n",
            "             aspect  upstream_area       TWI  target  \n",
            "1583      90.000000       1.953224  6.867965       1  \n",
            "7472     216.980625      20.515682  7.613240       0  \n",
            "9303     198.502434       0.095795  2.705712       0  \n",
            "9410     180.000000       0.023417  1.350022       1  \n",
            "10243     33.792173       0.802598  4.699374       0  \n",
            "...             ...            ...       ...     ...  \n",
            "1436443   90.000000       1.953224  6.867965       0  \n",
            "1447745  354.283567       0.008539 -0.867713       0  \n",
            "1447953  116.541597       2.446527  5.193460       0  \n",
            "1448115   90.000000       0.143033  3.564097       0  \n",
            "1455868   82.909297       0.495533  3.408822       1  \n",
            "\n",
            "[1106 rows x 16 columns]\n"
          ]
        }
      ],
      "source": [
        "#Cek apakah ada nilai yang tidak logis\n",
        "print(df[df['elevation'] < 0])"
      ]
    },
    {
      "cell_type": "markdown",
      "metadata": {
        "id": "eeEnDzZE0cCk"
      },
      "source": [
        "Apa itu elevation?\n",
        "\n",
        "elevation adalah ketinggian suatu titik dari permukaan laut, biasanya diukur dalam meter. elevasi itu dihitung dari mean sea level. Jadi, elevation positif berarti berada di atas permukaan laut, misalnya gunung, daratan. Elevation negatif berarti di bawah permukaan laut.\n",
        "\n",
        "Elevation negatif secara teoritis hanya bisa terjadi di Laut Mati dan Lembah Danakil di Ethiopia\n"
      ]
    },
    {
      "cell_type": "code",
      "execution_count": null,
      "metadata": {
        "id": "Lz69EJhS9ht1"
      },
      "outputs": [],
      "source": [
        "df_cleaned = df[(df['elevation'] >= 0)]"
      ]
    },
    {
      "cell_type": "code",
      "execution_count": null,
      "metadata": {
        "colab": {
          "base_uri": "https://localhost:8080/"
        },
        "id": "GnI79N8oRa9x",
        "outputId": "f382dfd5-70d1-4f2f-d6b9-1327d8f4dea4"
      },
      "outputs": [
        {
          "output_type": "stream",
          "name": "stdout",
          "text": [
            "Jumlah data setelah pembersihan elevation: 1471050 baris\n"
          ]
        }
      ],
      "source": [
        "print(f\"Jumlah data setelah pembersihan elevation: {df_cleaned.shape[0]} baris\")"
      ]
    },
    {
      "cell_type": "code",
      "execution_count": null,
      "metadata": {
        "colab": {
          "base_uri": "https://localhost:8080/"
        },
        "id": "RctX9xxB09kX",
        "outputId": "45b40242-e6a9-46c4-8064-1aeccd1aa827"
      },
      "outputs": [
        {
          "output_type": "stream",
          "name": "stdout",
          "text": [
            "              date         lon       lat  flooded  jrc_perm_water  precip_1d  \\\n",
            "5       2003-12-10  120.480923 -6.491451      0.0             1.0   9.645125   \n",
            "13      2003-12-10  120.483169 -6.482468      0.0             0.0   9.645125   \n",
            "15      2003-12-10  120.483169 -6.480222      0.0             0.0   9.645125   \n",
            "17      2003-12-10  120.478677 -6.477976      0.0             1.0   9.645125   \n",
            "18      2003-12-10  120.485415 -6.477976      0.0             0.0   9.645125   \n",
            "...            ...         ...       ...      ...             ...        ...   \n",
            "1472144 2015-02-05  120.065452 -2.040299      0.0             0.0   0.000000   \n",
            "1472146 2015-02-05  120.166513 -2.040299      0.0             0.0   0.000000   \n",
            "1472150 2015-02-05  120.159775 -2.035807      0.0             0.0   0.000000   \n",
            "1472151 2015-02-05  119.993587 -2.033561      0.0             0.0   0.000000   \n",
            "1472153 2015-02-05  120.067698 -2.033561      0.0             0.0   0.000000   \n",
            "\n",
            "         precip_3d        NDVI      NDWI  landcover  elevation      slope  \\\n",
            "5        28.935376  6190.93062  0.095203       11.0        5.0   0.940564   \n",
            "13       28.935376  6544.00000  0.161757       11.0       12.0   1.515089   \n",
            "15       28.935376  6544.00000  0.161757       11.0       15.0   3.244244   \n",
            "17       28.935376  6544.00000  0.088272       11.0        2.0   1.050016   \n",
            "18       28.935376  6544.00000  0.155516        2.0       40.0   4.171222   \n",
            "...            ...         ...       ...        ...        ...        ...   \n",
            "1472144  17.418119  7840.50000  0.209603        2.0     1884.0   4.348625   \n",
            "1472146  20.293864  4358.50000  0.106496        2.0     1911.0   4.833319   \n",
            "1472150  20.293864  4358.50000  0.132128        2.0     1843.0   2.559427   \n",
            "1472151  28.890709  7350.50000  0.147577        2.0     1823.0  12.938313   \n",
            "1472153  17.418119  7778.00000  0.211370        2.0     1952.0   3.456576   \n",
            "\n",
            "             aspect  upstream_area       TWI  target  \n",
            "5        277.079792       0.008494 -0.658966       0  \n",
            "13       247.510343       0.021236 -0.219550       0  \n",
            "15       249.085271       0.038225 -0.394001       0  \n",
            "17       270.000000       0.008494 -0.769043       0  \n",
            "18       247.142966       0.027607 -0.971446       0  \n",
            "...             ...            ...       ...     ...  \n",
            "1472144  205.215135       0.032035 -0.864494       0  \n",
            "1472146  201.049696       0.029899 -1.039615       0  \n",
            "1472150  354.802306       0.012814 -1.249451       0  \n",
            "1472151  185.563432       0.012814 -2.886395       0  \n",
            "1472153  103.562198       0.010678 -1.732814       0  \n",
            "\n",
            "[445298 rows x 16 columns]\n"
          ]
        }
      ],
      "source": [
        "print(df[df['TWI'] < 0])"
      ]
    },
    {
      "cell_type": "markdown",
      "metadata": {
        "id": "j7CPp8NJN-TG"
      },
      "source": [
        "Apa itu TWI?\n",
        "\n",
        "TWI adalah topographic wetness index (TWI) secara teoritis menggambarkan potensi akumulasi kelembaban berdasarkan topografi. TWI negatif dianggap tidak representatif untuk menggambarkan kondisi riil topografi di wilayah sulawesi selatan, terutama karena data tersebut digunakan untuk memodelkan potensi kejadian banjir yang berhubungan dengan akumulasi air, bukan kekeringan ekstrem. TWI negatif mungkin saja terjadi di Sulawesi Selatan, terutama di wilayah lereng curam dan kering esktrem. Namun, karena project ini berfokus prediksi banjir. TWI negatif dianggap kurang relevan atau bahkan mengganggu performa model."
      ]
    },
    {
      "cell_type": "code",
      "execution_count": null,
      "metadata": {
        "id": "ORqih7ybRztW"
      },
      "outputs": [],
      "source": [
        "df_cleaned = df_cleaned[df_cleaned['TWI'] >= 0]"
      ]
    },
    {
      "cell_type": "code",
      "execution_count": null,
      "metadata": {
        "colab": {
          "base_uri": "https://localhost:8080/"
        },
        "id": "Qpe8GczpuacO",
        "outputId": "c5fb92d9-02fe-4b05-c519-942a14c81b33"
      },
      "outputs": [
        {
          "output_type": "stream",
          "name": "stdout",
          "text": [
            "<class 'pandas.core.frame.DataFrame'>\n",
            "Index: 1025801 entries, 0 to 1472155\n",
            "Data columns (total 16 columns):\n",
            " #   Column          Non-Null Count    Dtype         \n",
            "---  ------          --------------    -----         \n",
            " 0   date            1025801 non-null  datetime64[ns]\n",
            " 1   lon             1025801 non-null  float64       \n",
            " 2   lat             1025801 non-null  float64       \n",
            " 3   flooded         1025801 non-null  float64       \n",
            " 4   jrc_perm_water  1025801 non-null  float64       \n",
            " 5   precip_1d       1025801 non-null  float64       \n",
            " 6   precip_3d       1025801 non-null  float64       \n",
            " 7   NDVI            1025801 non-null  float64       \n",
            " 8   NDWI            1025801 non-null  float64       \n",
            " 9   landcover       1025801 non-null  float64       \n",
            " 10  elevation       1025801 non-null  float64       \n",
            " 11  slope           1025801 non-null  float64       \n",
            " 12  aspect          1025801 non-null  float64       \n",
            " 13  upstream_area   1025801 non-null  float64       \n",
            " 14  TWI             1025801 non-null  float64       \n",
            " 15  target          1025801 non-null  int64         \n",
            "dtypes: datetime64[ns](1), float64(14), int64(1)\n",
            "memory usage: 133.0 MB\n"
          ]
        }
      ],
      "source": [
        "df_cleaned.info()"
      ]
    },
    {
      "cell_type": "code",
      "execution_count": null,
      "metadata": {
        "colab": {
          "base_uri": "https://localhost:8080/"
        },
        "id": "76ChE_OusLe-",
        "outputId": "e10b917b-5fd8-42b4-9484-21d9a8f9ec5d"
      },
      "outputs": [
        {
          "output_type": "stream",
          "name": "stdout",
          "text": [
            "✅ Dataset berhasil disimpan sebagai 'modis_flood_features paling cleaning.csv'\n"
          ]
        }
      ],
      "source": [
        "# Simpan dataset hasil pembersihan TWI ke file baru\n",
        "df_cleaned.to_csv(\"modis_flood_features_paling cleaning.csv\", index=False)\n",
        "\n",
        "print(\"✅ Dataset berhasil disimpan sebagai 'modis_flood_features paling cleaning.csv'\")\n"
      ]
    },
    {
      "cell_type": "code",
      "execution_count": null,
      "metadata": {
        "colab": {
          "base_uri": "https://localhost:8080/"
        },
        "id": "lr5klmq7tNz_",
        "outputId": "9a996ad7-9833-49bd-e935-7f6c827f3f6f"
      },
      "outputs": [
        {
          "output_type": "stream",
          "name": "stdout",
          "text": [
            "<class 'pandas.core.frame.DataFrame'>\n",
            "RangeIndex: 1472156 entries, 0 to 1472155\n",
            "Data columns (total 16 columns):\n",
            " #   Column          Non-Null Count    Dtype         \n",
            "---  ------          --------------    -----         \n",
            " 0   date            1472156 non-null  datetime64[ns]\n",
            " 1   lon             1472156 non-null  float64       \n",
            " 2   lat             1472156 non-null  float64       \n",
            " 3   flooded         1472156 non-null  float64       \n",
            " 4   jrc_perm_water  1472156 non-null  float64       \n",
            " 5   precip_1d       1472156 non-null  float64       \n",
            " 6   precip_3d       1472156 non-null  float64       \n",
            " 7   NDVI            1472156 non-null  float64       \n",
            " 8   NDWI            1472156 non-null  float64       \n",
            " 9   landcover       1472156 non-null  float64       \n",
            " 10  elevation       1472156 non-null  float64       \n",
            " 11  slope           1472156 non-null  float64       \n",
            " 12  aspect          1472156 non-null  float64       \n",
            " 13  upstream_area   1472156 non-null  float64       \n",
            " 14  TWI             1472156 non-null  float64       \n",
            " 15  target          1472156 non-null  int64         \n",
            "dtypes: datetime64[ns](1), float64(14), int64(1)\n",
            "memory usage: 179.7 MB\n"
          ]
        }
      ],
      "source": [
        "df.info()"
      ]
    },
    {
      "cell_type": "code",
      "execution_count": null,
      "metadata": {
        "colab": {
          "base_uri": "https://localhost:8080/"
        },
        "id": "0nDXyZjKRPwq",
        "outputId": "fd611601-1b9f-431c-ccb5-13474703f6c0"
      },
      "outputs": [
        {
          "output_type": "stream",
          "name": "stdout",
          "text": [
            "Jumlah data setelah pembersihan TWI: 1025801 baris\n"
          ]
        }
      ],
      "source": [
        "print(f\"Jumlah data setelah pembersihan TWI: {df_cleaned.shape[0]} baris\")"
      ]
    },
    {
      "cell_type": "code",
      "execution_count": null,
      "metadata": {
        "colab": {
          "base_uri": "https://localhost:8080/"
        },
        "id": "Yn2OIBU9BivU",
        "outputId": "72c59117-2320-4cad-cce9-fc38ca914b43"
      },
      "outputs": [
        {
          "output_type": "stream",
          "name": "stdout",
          "text": [
            "<class 'pandas.core.frame.DataFrame'>\n",
            "Index: 1025801 entries, 0 to 1472155\n",
            "Data columns (total 16 columns):\n",
            " #   Column          Non-Null Count    Dtype         \n",
            "---  ------          --------------    -----         \n",
            " 0   date            1025801 non-null  datetime64[ns]\n",
            " 1   lon             1025801 non-null  float64       \n",
            " 2   lat             1025801 non-null  float64       \n",
            " 3   flooded         1025801 non-null  float64       \n",
            " 4   jrc_perm_water  1025801 non-null  float64       \n",
            " 5   precip_1d       1025801 non-null  float64       \n",
            " 6   precip_3d       1025801 non-null  float64       \n",
            " 7   NDVI            1025801 non-null  float64       \n",
            " 8   NDWI            1025801 non-null  float64       \n",
            " 9   landcover       1025801 non-null  float64       \n",
            " 10  elevation       1025801 non-null  float64       \n",
            " 11  slope           1025801 non-null  float64       \n",
            " 12  aspect          1025801 non-null  float64       \n",
            " 13  upstream_area   1025801 non-null  float64       \n",
            " 14  TWI             1025801 non-null  float64       \n",
            " 15  target          1025801 non-null  int64         \n",
            "dtypes: datetime64[ns](1), float64(14), int64(1)\n",
            "memory usage: 133.0 MB\n"
          ]
        }
      ],
      "source": [
        "df_cleaned.info()"
      ]
    },
    {
      "cell_type": "code",
      "execution_count": null,
      "metadata": {
        "id": "auDfGAXz_bYD"
      },
      "outputs": [],
      "source": [
        "# Buat salinan agar rapi\n",
        "df_fe = df_cleaned.copy()\n",
        "\n",
        "# Ekstrak fitur dari tanggal\n",
        "df_fe['year'] = df_fe['date'].dt.year\n",
        "df_fe['month'] = df_fe['date'].dt.month\n",
        "df_fe['day'] = df_fe['date'].dt.day\n",
        "df_fe['dayofweek'] = df_fe['date'].dt.dayofweek  # 0=Senin, 6=Minggu\n",
        "df_fe['quarter'] = df_fe['date'].dt.quarter\n",
        "df_fe['day_of_year'] = df_fe['date'].dt.dayofyear\n",
        "\n",
        "# (Opsional) Hapus kolom date asli jika tidak dibutuhkan\n",
        "df_fe = df_fe.drop(columns=['date'])"
      ]
    },
    {
      "cell_type": "code",
      "execution_count": null,
      "metadata": {
        "colab": {
          "base_uri": "https://localhost:8080/"
        },
        "id": "-fPLjoGx_K-v",
        "outputId": "0b00d3aa-58f8-48a7-ad93-6ba553a7a3e6"
      },
      "outputs": [
        {
          "output_type": "stream",
          "name": "stdout",
          "text": [
            "<class 'pandas.core.frame.DataFrame'>\n",
            "Index: 1025801 entries, 0 to 1472155\n",
            "Data columns (total 21 columns):\n",
            " #   Column          Non-Null Count    Dtype  \n",
            "---  ------          --------------    -----  \n",
            " 0   lon             1025801 non-null  float64\n",
            " 1   lat             1025801 non-null  float64\n",
            " 2   flooded         1025801 non-null  float64\n",
            " 3   jrc_perm_water  1025801 non-null  float64\n",
            " 4   precip_1d       1025801 non-null  float64\n",
            " 5   precip_3d       1025801 non-null  float64\n",
            " 6   NDVI            1025801 non-null  float64\n",
            " 7   NDWI            1025801 non-null  float64\n",
            " 8   landcover       1025801 non-null  float64\n",
            " 9   elevation       1025801 non-null  float64\n",
            " 10  slope           1025801 non-null  float64\n",
            " 11  aspect          1025801 non-null  float64\n",
            " 12  upstream_area   1025801 non-null  float64\n",
            " 13  TWI             1025801 non-null  float64\n",
            " 14  target          1025801 non-null  int64  \n",
            " 15  year            1025801 non-null  int32  \n",
            " 16  month           1025801 non-null  int32  \n",
            " 17  day             1025801 non-null  int32  \n",
            " 18  dayofweek       1025801 non-null  int32  \n",
            " 19  quarter         1025801 non-null  int32  \n",
            " 20  day_of_year     1025801 non-null  int32  \n",
            "dtypes: float64(14), int32(6), int64(1)\n",
            "memory usage: 148.7 MB\n"
          ]
        }
      ],
      "source": [
        "df_fe.info()"
      ]
    },
    {
      "cell_type": "code",
      "execution_count": null,
      "metadata": {
        "id": "TwX9_Mft_3ug"
      },
      "outputs": [],
      "source": [
        "X = df_fe.drop(columns=['target', 'flooded','jrc_perm_water'])\n",
        "y = df_fe['target']"
      ]
    },
    {
      "cell_type": "code",
      "execution_count": null,
      "metadata": {
        "id": "w-O1C-WtAHa7"
      },
      "outputs": [],
      "source": [
        "#Split Data\n",
        "X_train, X_test, y_train, y_test = train_test_split(\n",
        "    X, y, test_size=0.2, stratify=y, random_state=42\n",
        ")"
      ]
    },
    {
      "cell_type": "code",
      "execution_count": null,
      "metadata": {
        "id": "j3h2vMliZ-cX"
      },
      "outputs": [],
      "source": [
        "from sklearn.preprocessing import StandardScaler, RobustScaler\n",
        "scaler = RobustScaler()\n",
        "X_train_scaled = scaler.fit_transform(X_train)\n",
        "X_test_scaled = scaler.transform(X_test)"
      ]
    },
    {
      "cell_type": "code",
      "execution_count": null,
      "metadata": {
        "id": "rRpMxAk5ThaJ"
      },
      "outputs": [],
      "source": [
        "#Random Forest Baseline\n",
        "rf = RandomForestClassifier(n_estimators=100,\n",
        "                            class_weight='balanced',\n",
        "                            random_state=42,\n",
        "                            n_jobs=-1)\n",
        "rf.fit(X_train_scaled, y_train)\n",
        "y_pred = rf.predict(X_test_scaled)\n",
        "y_prob = rf.predict_proba(X_test_scaled)[:, 1]"
      ]
    },
    {
      "cell_type": "code",
      "source": [
        "import joblib\n",
        "rf = RandomForestClassifier(n_estimators=100,\n",
        "                            class_weight='balanced',\n",
        "                            random_state=42,\n",
        "                            n_jobs=-1)\n",
        "rf.fit(X_train_scaled, y_train)\n",
        "joblib.dump(rf, 'random_forest_model.pkl')"
      ],
      "metadata": {
        "colab": {
          "base_uri": "https://localhost:8080/"
        },
        "id": "9vZCy0JKNIXi",
        "outputId": "66178425-344c-4401-b743-b1c065ced0b8"
      },
      "execution_count": null,
      "outputs": [
        {
          "output_type": "execute_result",
          "data": {
            "text/plain": [
              "['random_forest_model.pkl']"
            ]
          },
          "metadata": {},
          "execution_count": 69
        }
      ]
    },
    {
      "cell_type": "code",
      "source": [
        "import joblib\n",
        "joblib.dump(rf, 'random_forest_model.pkl')"
      ],
      "metadata": {
        "id": "9hInHxgyMzi7"
      },
      "execution_count": null,
      "outputs": []
    },
    {
      "cell_type": "code",
      "execution_count": null,
      "metadata": {
        "colab": {
          "base_uri": "https://localhost:8080/"
        },
        "id": "Tmz4GUivTqSf",
        "outputId": "34780a5e-f631-41f5-a10b-742061daa004"
      },
      "outputs": [
        {
          "output_type": "stream",
          "name": "stdout",
          "text": [
            "Classification Report:\n",
            "               precision    recall  f1-score   support\n",
            "\n",
            "           0       0.98      0.99      0.99    195890\n",
            "           1       0.81      0.61      0.69      9271\n",
            "\n",
            "    accuracy                           0.98    205161\n",
            "   macro avg       0.89      0.80      0.84    205161\n",
            "weighted avg       0.97      0.98      0.97    205161\n",
            "\n",
            "Confusion Matrix:\n",
            " [[194518   1372]\n",
            " [  3607   5664]]\n",
            "ROC AUC Score: 0.9874339910376664\n"
          ]
        }
      ],
      "source": [
        "#Evaluasi Random Forest Baseline\n",
        "print(\"Classification Report:\\n\", classification_report(y_test, y_pred))\n",
        "print(\"Confusion Matrix:\\n\", confusion_matrix(y_test, y_pred))\n",
        "print(\"ROC AUC Score:\", roc_auc_score(y_test, y_prob))"
      ]
    },
    {
      "cell_type": "code",
      "execution_count": null,
      "metadata": {
        "colab": {
          "base_uri": "https://localhost:8080/",
          "height": 407
        },
        "id": "7HHk_XksOoN_",
        "outputId": "fcf4da0c-a2d1-49ae-dfa9-07f4db8050b6"
      },
      "outputs": [
        {
          "output_type": "display_data",
          "data": {
            "text/plain": [
              "<Figure size 600x400 with 2 Axes>"
            ],
            "image/png": "[encoded data removed]"
          },
          "metadata": {}
        }
      ],
      "source": [
        "import matplotlib.pyplot as plt\n",
        "import seaborn as sns\n",
        "#Visualisasi Confusion Matrix\n",
        "plt.figure(figsize=(6, 4))\n",
        "sns.heatmap(confusion_matrix(y_test, y_pred), annot=True, fmt='d', cmap='Blues')\n",
        "plt.title(\"Confusion Matrix - Random Forest Baseline\")\n",
        "plt.xlabel(\"Predicted\")\n",
        "plt.ylabel(\"Actual\")\n",
        "plt.tight_layout()\n",
        "plt.show()"
      ]
    },
    {
      "cell_type": "code",
      "execution_count": null,
      "metadata": {
        "colab": {
          "base_uri": "https://localhost:8080/",
          "height": 407
        },
        "id": "DboWgz8lOzD_",
        "outputId": "a10ca811-9b1d-436d-faf8-08e52624d2f1"
      },
      "outputs": [
        {
          "output_type": "display_data",
          "data": {
            "text/plain": [
              "<Figure size 600x400 with 1 Axes>"
            ],
            "image/png": "[encoded data removed]"
          },
          "metadata": {}
        }
      ],
      "source": [
        "#ROC Curve\n",
        "from sklearn.metrics import roc_curve\n",
        "fpr, tpr, thresholds = roc_curve(y_test, y_prob)\n",
        "plt.figure(figsize=(6, 4))\n",
        "plt.plot(fpr, tpr, label=f\"AUC = {roc_auc_score(y_test, y_prob):.4f}\")\n",
        "plt.plot([0, 1], [0, 1], 'k--')\n",
        "plt.xlabel(\"False Positive Rate\")\n",
        "plt.ylabel(\"True Positive Rate\")\n",
        "plt.title(\"ROC Curve - Random Forest Baseline\")\n",
        "plt.legend()\n",
        "plt.tight_layout()\n",
        "plt.show()"
      ]
    },
    {
      "cell_type": "code",
      "execution_count": null,
      "metadata": {
        "colab": {
          "base_uri": "https://localhost:8080/",
          "height": 607
        },
        "id": "jDigL7WDO3mk",
        "outputId": "9c460d92-6eef-4516-bc93-a9ab05240422"
      },
      "outputs": [
        {
          "output_type": "display_data",
          "data": {
            "text/plain": [
              "<Figure size 800x600 with 1 Axes>"
            ],
            "image/png": "[encoded data removed]"
          },
          "metadata": {}
        }
      ],
      "source": [
        "# Feature Importance\n",
        "importances = pd.Series(rf.feature_importances_, index=X.columns)\n",
        "importances.nlargest(15).plot(kind='barh', figsize=(8,6), title=\"Top 15 Feature Importances\")\n",
        "plt.xlabel(\"Feature Importance\")\n",
        "plt.tight_layout()\n",
        "plt.show()"
      ]
    },
    {
      "cell_type": "code",
      "execution_count": null,
      "metadata": {
        "id": "NIO4ILsaYTU3"
      },
      "outputs": [],
      "source": [
        "from imblearn.over_sampling import SMOTE\n",
        "smote = SMOTE()\n",
        "X_train_res, y_train_res = smote.fit_resample(X_train_scaled, y_train)"
      ]
    },
    {
      "cell_type": "code",
      "execution_count": null,
      "metadata": {
        "id": "yaYvFgIGF_yt"
      },
      "outputs": [],
      "source": [
        "#Random Forest + SMOTE\n",
        "rf = RandomForestClassifier(\n",
        "    n_estimators=100,\n",
        "    class_weight='balanced',\n",
        "    random_state=42,\n",
        "    n_jobs=-1\n",
        ")\n",
        "rf.fit(X_train_res, y_train_res)\n",
        "y_pred = rf.predict(X_test_scaled)\n",
        "y_prob = rf.predict_proba(X_test_scaled)[:, 1]"
      ]
    },
    {
      "cell_type": "code",
      "execution_count": null,
      "metadata": {
        "colab": {
          "base_uri": "https://localhost:8080/"
        },
        "id": "41wFX3PQGMyc",
        "outputId": "68924a37-9df7-43dd-d965-eea667919d64"
      },
      "outputs": [
        {
          "output_type": "stream",
          "name": "stdout",
          "text": [
            "Classification Report:\n",
            "               precision    recall  f1-score   support\n",
            "\n",
            "           0       0.99      0.98      0.99    195890\n",
            "           1       0.65      0.82      0.73      9271\n",
            "\n",
            "    accuracy                           0.97    205161\n",
            "   macro avg       0.82      0.90      0.86    205161\n",
            "weighted avg       0.98      0.97      0.97    205161\n",
            "\n",
            "Confusion Matrix:\n",
            " [[191804   4086]\n",
            " [  1625   7646]]\n",
            "ROC AUC Score: 0.9875306081667404\n"
          ]
        }
      ],
      "source": [
        "#Evaluasi Random Forest + SMOTE\n",
        "print(\"Classification Report:\\n\", classification_report(y_test, y_pred))\n",
        "print(\"Confusion Matrix:\\n\", confusion_matrix(y_test, y_pred))\n",
        "print(\"ROC AUC Score:\", roc_auc_score(y_test, y_prob))"
      ]
    },
    {
      "cell_type": "code",
      "execution_count": null,
      "metadata": {
        "colab": {
          "base_uri": "https://localhost:8080/",
          "height": 407
        },
        "id": "8XXqdvH8HI3x",
        "outputId": "2a90505c-c8fe-45eb-81fe-2f4f22a0d03c"
      },
      "outputs": [
        {
          "output_type": "display_data",
          "data": {
            "text/plain": [
              "<Figure size 600x400 with 2 Axes>"
            ],
            "image/png": "[encoded data removed]"
          },
          "metadata": {}
        }
      ],
      "source": [
        "# Visualisasi Confusion Matrix\n",
        "plt.figure(figsize=(6, 4))\n",
        "sns.heatmap(confusion_matrix(y_test, y_pred), annot=True, fmt='d', cmap='Blues')\n",
        "plt.title(\"Confusion Matrix - Random Forest + SMOTE\")\n",
        "plt.xlabel(\"Predicted\")\n",
        "plt.ylabel(\"Actual\")\n",
        "plt.tight_layout()\n",
        "plt.show()"
      ]
    },
    {
      "cell_type": "code",
      "execution_count": null,
      "metadata": {
        "colab": {
          "base_uri": "https://localhost:8080/",
          "height": 407
        },
        "id": "FiXcGyaNHM2P",
        "outputId": "d9f8ec83-96e5-4f47-f031-1c1691e3fa70"
      },
      "outputs": [
        {
          "output_type": "display_data",
          "data": {
            "text/plain": [
              "<Figure size 600x400 with 1 Axes>"
            ],
            "image/png": "[encoded data removed]"
          },
          "metadata": {}
        }
      ],
      "source": [
        "# ROC Curve\n",
        "fpr, tpr, thresholds = roc_curve(y_test, y_prob)\n",
        "plt.figure(figsize=(6, 4))\n",
        "plt.plot(fpr, tpr, label=f\"AUC = {roc_auc_score(y_test, y_prob):.4f}\")\n",
        "plt.plot([0, 1], [0, 1], 'k--')\n",
        "plt.xlabel(\"False Positive Rate\")\n",
        "plt.ylabel(\"True Positive Rate\")\n",
        "plt.title(\"ROC Curve - Random Forest + SMOTE\")\n",
        "plt.legend()\n",
        "plt.tight_layout()\n",
        "plt.show()"
      ]
    },
    {
      "cell_type": "code",
      "execution_count": null,
      "metadata": {
        "colab": {
          "base_uri": "https://localhost:8080/",
          "height": 607
        },
        "id": "u2cNEv4AHRbL",
        "outputId": "5170546d-a837-489a-f762-99263ee2cda0"
      },
      "outputs": [
        {
          "output_type": "display_data",
          "data": {
            "text/plain": [
              "<Figure size 800x600 with 1 Axes>"
            ],
            "image/png": "[encoded data removed]"
          },
          "metadata": {}
        }
      ],
      "source": [
        "# Feature Importance\n",
        "importances = pd.Series(rf.feature_importances_, index=X.columns)\n",
        "importances.nlargest(15).plot(kind='barh', figsize=(8,6), title=\"Top 15 Feature Importances (RF + SMOTE)\")\n",
        "plt.xlabel(\"Feature Importance\")\n",
        "plt.tight_layout()\n",
        "plt.show()"
      ]
    },
    {
      "cell_type": "code",
      "execution_count": null,
      "metadata": {
        "id": "27CRQ4eiXLZr"
      },
      "outputs": [],
      "source": [
        "from imblearn.over_sampling import ADASYN\n",
        "adasyn = ADASYN(random_state=42)\n",
        "X_train_ada, y_train_ada = adasyn.fit_resample(X_train_scaled, y_train)"
      ]
    },
    {
      "cell_type": "code",
      "execution_count": null,
      "metadata": {
        "id": "8wbYVmH5Ohtt"
      },
      "outputs": [],
      "source": [
        "#Random Forest + ADASYN\n",
        "rf = RandomForestClassifier(\n",
        "    n_estimators=100,\n",
        "    class_weight='balanced',\n",
        "    random_state=42,\n",
        "    n_jobs=-1\n",
        ")\n",
        "rf.fit(X_train_ada, y_train_ada)\n",
        "y_pred = rf.predict(X_test_scaled)\n",
        "y_prob = rf.predict_proba(X_test_scaled)[:, 1]"
      ]
    },
    {
      "cell_type": "code",
      "execution_count": null,
      "metadata": {
        "colab": {
          "base_uri": "https://localhost:8080/"
        },
        "id": "NyOPI0CaTMo_",
        "outputId": "e98ed899-0822-46e5-df1e-b5ba1cf82f43"
      },
      "outputs": [
        {
          "output_type": "stream",
          "name": "stdout",
          "text": [
            "Classification Report:\n",
            "               precision    recall  f1-score   support\n",
            "\n",
            "           0       0.99      0.98      0.99    195890\n",
            "           1       0.65      0.83      0.73      9271\n",
            "\n",
            "    accuracy                           0.97    205161\n",
            "   macro avg       0.82      0.90      0.86    205161\n",
            "weighted avg       0.98      0.97      0.97    205161\n",
            "\n",
            "Confusion Matrix:\n",
            " [[191676   4214]\n",
            " [  1585   7686]]\n",
            "ROC AUC Score: 0.9874488624966501\n"
          ]
        }
      ],
      "source": [
        "#Evaluasi Random Forest + ADASYN\n",
        "print(\"Classification Report:\\n\", classification_report(y_test, y_pred))\n",
        "print(\"Confusion Matrix:\\n\", confusion_matrix(y_test, y_pred))\n",
        "print(\"ROC AUC Score:\", roc_auc_score(y_test, y_prob))"
      ]
    },
    {
      "cell_type": "code",
      "execution_count": null,
      "metadata": {
        "id": "YcWyYwSOTYPW"
      },
      "outputs": [],
      "source": [
        "#Visualisai Confusion Matrix Random Forest + ADASYN\n",
        "plt.figure(figsize=(6, 4))\n",
        "sns.heatmap(confusion_matrix(y_test, y_pred), annot=True, fmt='d', cmap='Blues')\n",
        "plt.title(\"Confusion Matrix - Random Forest + ADASYN\")\n",
        "plt.xlabel(\"Predicted\")\n",
        "plt.ylabel(\"Actual\")\n",
        "plt.tight_layout()\n",
        "plt.show()"
      ]
    },
    {
      "cell_type": "code",
      "execution_count": null,
      "metadata": {
        "id": "HgyA7Q8qTfdW"
      },
      "outputs": [],
      "source": [
        "#ROC Curve\n",
        "fpr, tpr, thresholds = roc_curve(y_test, y_prob)\n",
        "plt.figure(figsize=(6, 4))\n",
        "plt.plot(fpr, tpr, label=f\"AUC = {roc_auc_score(y_test, y_prob):.4f}\")\n",
        "plt.plot([0, 1], [0, 1], 'k--')\n",
        "plt.xlabel(\"False Positive Rate\")\n",
        "plt.ylabel(\"True Positive Rate\")\n",
        "plt.title(\"ROC Curve - Random Forest + ADASYN\")\n",
        "plt.legend()\n",
        "plt.tight_layout()\n",
        "plt.show()"
      ]
    },
    {
      "cell_type": "code",
      "execution_count": null,
      "metadata": {
        "id": "TEXp5XmuTjg-"
      },
      "outputs": [],
      "source": [
        "#Feature Importance\n",
        "importances = pd.Series(rf.feature_importances_, index=X.columns)\n",
        "importances.nlargest(15).plot(kind='barh', figsize=(8,6), title=\"Top 15 Feature Importances (RF + ADASYN)\")\n",
        "plt.xlabel(\"Feature Importance\")\n",
        "plt.tight_layout()\n",
        "plt.show()"
      ]
    }
  ],
  "metadata": {
    "colab": {
      "provenance": []
    },
    "kernelspec": {
      "display_name": "Python 3",
      "name": "python3"
    },
    "language_info": {
      "name": "python"
    }
  },
  "nbformat": 4,
  "nbformat_minor": 0
}