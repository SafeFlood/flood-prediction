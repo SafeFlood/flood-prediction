{
  "cells": [
    {
      "cell_type": "code",
      "execution_count": 15,
      "id": "f9f1f7c5",
      "metadata": {
        "id": "f9f1f7c5"
      },
      "outputs": [],
      "source": [
        "import pandas as pd\n",
        "import numpy as np\n",
        "from sklearn.model_selection import train_test_split\n",
        "from sklearn.preprocessing import MinMaxScaler\n",
        "from sklearn.metrics import classification_report, confusion_matrix\n",
        "from imblearn.over_sampling import SMOTE\n",
        "\n",
        "from tensorflow.keras.models import Sequential\n",
        "from tensorflow.keras.layers import LSTM, Dense, Dropout\n",
        "from tensorflow.keras.callbacks import EarlyStopping"
      ]
    },
    {
      "cell_type": "code",
      "execution_count": 16,
      "id": "2JuXeoOOHbwQ",
      "metadata": {
        "colab": {
          "base_uri": "https://localhost:8080/",
          "height": 73
        },
        "id": "2JuXeoOOHbwQ",
        "outputId": "183e90e0-69b8-4f22-f98d-84f4563c4d17"
      },
      "outputs": [
        {
          "output_type": "display_data",
          "data": {
            "text/plain": [
              "<IPython.core.display.HTML object>"
            ],
            "text/html": [
              "\n",
              "     <input type=\"file\" id=\"files-cad0c38e-d825-47d9-a8fe-626a5d036324\" name=\"files[]\" multiple disabled\n",
              "        style=\"border:none\" />\n",
              "     <output id=\"result-cad0c38e-d825-47d9-a8fe-626a5d036324\">\n",
              "      Upload widget is only available when the cell has been executed in the\n",
              "      current browser session. Please rerun this cell to enable.\n",
              "      </output>\n",
              "      <script>// Copyright 2017 Google LLC\n",
              "//\n",
              "// Licensed under the Apache License, Version 2.0 (the \"License\");\n",
              "// you may not use this file except in compliance with the License.\n",
              "// You may obtain a copy of the License at\n",
              "//\n",
              "//      http://www.apache.org/licenses/LICENSE-2.0\n",
              "//\n",
              "// Unless required by applicable law or agreed to in writing, software\n",
              "// distributed under the License is distributed on an \"AS IS\" BASIS,\n",
              "// WITHOUT WARRANTIES OR CONDITIONS OF ANY KIND, either express or implied.\n",
              "// See the License for the specific language governing permissions and\n",
              "// limitations under the License.\n",
              "\n",
              "/**\n",
              " * @fileoverview Helpers for google.colab Python module.\n",
              " */\n",
              "(function(scope) {\n",
              "function span(text, styleAttributes = {}) {\n",
              "  const element = document.createElement('span');\n",
              "  element.textContent = text;\n",
              "  for (const key of Object.keys(styleAttributes)) {\n",
              "    element.style[key] = styleAttributes[key];\n",
              "  }\n",
              "  return element;\n",
              "}\n",
              "\n",
              "// Max number of bytes which will be uploaded at a time.\n",
              "const MAX_PAYLOAD_SIZE = 100 * 1024;\n",
              "\n",
              "function _uploadFiles(inputId, outputId) {\n",
              "  const steps = uploadFilesStep(inputId, outputId);\n",
              "  const outputElement = document.getElementById(outputId);\n",
              "  // Cache steps on the outputElement to make it available for the next call\n",
              "  // to uploadFilesContinue from Python.\n",
              "  outputElement.steps = steps;\n",
              "\n",
              "  return _uploadFilesContinue(outputId);\n",
              "}\n",
              "\n",
              "// This is roughly an async generator (not supported in the browser yet),\n",
              "// where there are multiple asynchronous steps and the Python side is going\n",
              "// to poll for completion of each step.\n",
              "// This uses a Promise to block the python side on completion of each step,\n",
              "// then passes the result of the previous step as the input to the next step.\n",
              "function _uploadFilesContinue(outputId) {\n",
              "  const outputElement = document.getElementById(outputId);\n",
              "  const steps = outputElement.steps;\n",
              "\n",
              "  const next = steps.next(outputElement.lastPromiseValue);\n",
              "  return Promise.resolve(next.value.promise).then((value) => {\n",
              "    // Cache the last promise value to make it available to the next\n",
              "    // step of the generator.\n",
              "    outputElement.lastPromiseValue = value;\n",
              "    return next.value.response;\n",
              "  });\n",
              "}\n",
              "\n",
              "/**\n",
              " * Generator function which is called between each async step of the upload\n",
              " * process.\n",
              " * @param {string} inputId Element ID of the input file picker element.\n",
              " * @param {string} outputId Element ID of the output display.\n",
              " * @return {!Iterable<!Object>} Iterable of next steps.\n",
              " */\n",
              "function* uploadFilesStep(inputId, outputId) {\n",
              "  const inputElement = document.getElementById(inputId);\n",
              "  inputElement.disabled = false;\n",
              "\n",
              "  const outputElement = document.getElementById(outputId);\n",
              "  outputElement.innerHTML = '';\n",
              "\n",
              "  const pickedPromise = new Promise((resolve) => {\n",
              "    inputElement.addEventListener('change', (e) => {\n",
              "      resolve(e.target.files);\n",
              "    });\n",
              "  });\n",
              "\n",
              "  const cancel = document.createElement('button');\n",
              "  inputElement.parentElement.appendChild(cancel);\n",
              "  cancel.textContent = 'Cancel upload';\n",
              "  const cancelPromise = new Promise((resolve) => {\n",
              "    cancel.onclick = () => {\n",
              "      resolve(null);\n",
              "    };\n",
              "  });\n",
              "\n",
              "  // Wait for the user to pick the files.\n",
              "  const files = yield {\n",
              "    promise: Promise.race([pickedPromise, cancelPromise]),\n",
              "    response: {\n",
              "      action: 'starting',\n",
              "    }\n",
              "  };\n",
              "\n",
              "  cancel.remove();\n",
              "\n",
              "  // Disable the input element since further picks are not allowed.\n",
              "  inputElement.disabled = true;\n",
              "\n",
              "  if (!files) {\n",
              "    return {\n",
              "      response: {\n",
              "        action: 'complete',\n",
              "      }\n",
              "    };\n",
              "  }\n",
              "\n",
              "  for (const file of files) {\n",
              "    const li = document.createElement('li');\n",
              "    li.append(span(file.name, {fontWeight: 'bold'}));\n",
              "    li.append(span(\n",
              "        `(${file.type || 'n/a'}) - ${file.size} bytes, ` +\n",
              "        `last modified: ${\n",
              "            file.lastModifiedDate ? file.lastModifiedDate.toLocaleDateString() :\n",
              "                                    'n/a'} - `));\n",
              "    const percent = span('0% done');\n",
              "    li.appendChild(percent);\n",
              "\n",
              "    outputElement.appendChild(li);\n",
              "\n",
              "    const fileDataPromise = new Promise((resolve) => {\n",
              "      const reader = new FileReader();\n",
              "      reader.onload = (e) => {\n",
              "        resolve(e.target.result);\n",
              "      };\n",
              "      reader.readAsArrayBuffer(file);\n",
              "    });\n",
              "    // Wait for the data to be ready.\n",
              "    let fileData = yield {\n",
              "      promise: fileDataPromise,\n",
              "      response: {\n",
              "        action: 'continue',\n",
              "      }\n",
              "    };\n",
              "\n",
              "    // Use a chunked sending to avoid message size limits. See b/62115660.\n",
              "    let position = 0;\n",
              "    do {\n",
              "      const length = Math.min(fileData.byteLength - position, MAX_PAYLOAD_SIZE);\n",
              "      const chunk = new Uint8Array(fileData, position, length);\n",
              "      position += length;\n",
              "\n",
              "      const base64 = btoa(String.fromCharCode.apply(null, chunk));\n",
              "      yield {\n",
              "        response: {\n",
              "          action: 'append',\n",
              "          file: file.name,\n",
              "          data: base64,\n",
              "        },\n",
              "      };\n",
              "\n",
              "      let percentDone = fileData.byteLength === 0 ?\n",
              "          100 :\n",
              "          Math.round((position / fileData.byteLength) * 100);\n",
              "      percent.textContent = `${percentDone}% done`;\n",
              "\n",
              "    } while (position < fileData.byteLength);\n",
              "  }\n",
              "\n",
              "  // All done.\n",
              "  yield {\n",
              "    response: {\n",
              "      action: 'complete',\n",
              "    }\n",
              "  };\n",
              "}\n",
              "\n",
              "scope.google = scope.google || {};\n",
              "scope.google.colab = scope.google.colab || {};\n",
              "scope.google.colab._files = {\n",
              "  _uploadFiles,\n",
              "  _uploadFilesContinue,\n",
              "};\n",
              "})(self);\n",
              "</script> "
            ]
          },
          "metadata": {}
        },
        {
          "output_type": "stream",
          "name": "stdout",
          "text": [
            "Saving modis_flood_features_cleaned_v1.1.csv to modis_flood_features_cleaned_v1.1 (1).csv\n"
          ]
        }
      ],
      "source": [
        "from google.colab import files\n",
        "uploaded = files.upload()"
      ]
    },
    {
      "cell_type": "code",
      "execution_count": 17,
      "id": "03bbdd51",
      "metadata": {
        "id": "03bbdd51"
      },
      "outputs": [],
      "source": [
        "# Load Dataset\n",
        "df = pd.read_csv('modis_flood_features_cleaned_v1.1.csv', parse_dates=['date'])"
      ]
    },
    {
      "cell_type": "code",
      "execution_count": 18,
      "id": "q-DSwLTnOJhe",
      "metadata": {
        "id": "q-DSwLTnOJhe",
        "colab": {
          "base_uri": "https://localhost:8080/"
        },
        "outputId": "92bb8683-0ac5-4078-d16d-755054ef848b"
      },
      "outputs": [
        {
          "output_type": "stream",
          "name": "stdout",
          "text": [
            "<class 'pandas.core.frame.DataFrame'>\n",
            "RangeIndex: 1472156 entries, 0 to 1472155\n",
            "Data columns (total 16 columns):\n",
            " #   Column          Non-Null Count    Dtype         \n",
            "---  ------          --------------    -----         \n",
            " 0   date            1472156 non-null  datetime64[ns]\n",
            " 1   lon             1472156 non-null  float64       \n",
            " 2   lat             1472156 non-null  float64       \n",
            " 3   flooded         1472156 non-null  float64       \n",
            " 4   jrc_perm_water  1472156 non-null  float64       \n",
            " 5   precip_1d       1472156 non-null  float64       \n",
            " 6   precip_3d       1472156 non-null  float64       \n",
            " 7   NDVI            1472156 non-null  float64       \n",
            " 8   NDWI            1472156 non-null  float64       \n",
            " 9   landcover       1472156 non-null  float64       \n",
            " 10  elevation       1472156 non-null  float64       \n",
            " 11  slope           1472156 non-null  float64       \n",
            " 12  aspect          1472156 non-null  float64       \n",
            " 13  upstream_area   1472156 non-null  float64       \n",
            " 14  TWI             1472156 non-null  float64       \n",
            " 15  target          1472156 non-null  int64         \n",
            "dtypes: datetime64[ns](1), float64(14), int64(1)\n",
            "memory usage: 179.7 MB\n"
          ]
        }
      ],
      "source": [
        "df.info()"
      ]
    },
    {
      "cell_type": "code",
      "execution_count": 19,
      "id": "e6ff237a",
      "metadata": {
        "id": "e6ff237a"
      },
      "outputs": [],
      "source": [
        "# Preprocessing\n",
        "X = df.drop(columns=['date', 'target', 'flooded','jrc_perm_water'])\n",
        "y = df['target']\n",
        "X = X.apply(pd.to_numeric, errors='coerce').fillna(0)\n",
        "\n",
        "# Normalisasi\n",
        "scaler = MinMaxScaler()\n",
        "X_scaled = scaler.fit_transform(X)\n",
        "\n",
        "# Reshape untuk LSTM\n",
        "X_reshaped = X_scaled.reshape((X_scaled.shape[0], 1, X_scaled.shape[1]))\n",
        "\n",
        "# Split data\n",
        "X_train, X_test, y_train, y_test = train_test_split(\n",
        "    X_reshaped, y, test_size=0.2, stratify=y, random_state=42)"
      ]
    },
    {
      "cell_type": "code",
      "execution_count": 20,
      "id": "a77e8f7a",
      "metadata": {
        "id": "a77e8f7a",
        "colab": {
          "base_uri": "https://localhost:8080/"
        },
        "outputId": "c2cab98e-5fb7-4095-de27-7a9f44f1c863"
      },
      "outputs": [
        {
          "output_type": "stream",
          "name": "stderr",
          "text": [
            "/usr/local/lib/python3.11/dist-packages/keras/src/layers/rnn/rnn.py:200: UserWarning: Do not pass an `input_shape`/`input_dim` argument to a layer. When using Sequential models, prefer using an `Input(shape)` object as the first layer in the model instead.\n",
            "  super().__init__(**kwargs)\n"
          ]
        },
        {
          "output_type": "stream",
          "name": "stdout",
          "text": [
            "Epoch 1/15\n",
            "\u001b[1m2301/2301\u001b[0m \u001b[32m━━━━━━━━━━━━━━━━━━━━\u001b[0m\u001b[37m\u001b[0m \u001b[1m25s\u001b[0m 9ms/step - accuracy: 0.9652 - loss: 0.1528 - val_accuracy: 0.9667 - val_loss: 0.0885\n",
            "Epoch 2/15\n",
            "\u001b[1m2301/2301\u001b[0m \u001b[32m━━━━━━━━━━━━━━━━━━━━\u001b[0m\u001b[37m\u001b[0m \u001b[1m22s\u001b[0m 10ms/step - accuracy: 0.9665 - loss: 0.0887 - val_accuracy: 0.9674 - val_loss: 0.0843\n",
            "Epoch 3/15\n",
            "\u001b[1m2301/2301\u001b[0m \u001b[32m━━━━━━━━━━━━━━━━━━━━\u001b[0m\u001b[37m\u001b[0m \u001b[1m25s\u001b[0m 11ms/step - accuracy: 0.9675 - loss: 0.0843 - val_accuracy: 0.9684 - val_loss: 0.0807\n",
            "Epoch 4/15\n",
            "\u001b[1m2301/2301\u001b[0m \u001b[32m━━━━━━━━━━━━━━━━━━━━\u001b[0m\u001b[37m\u001b[0m \u001b[1m22s\u001b[0m 9ms/step - accuracy: 0.9683 - loss: 0.0803 - val_accuracy: 0.9693 - val_loss: 0.0776\n",
            "Epoch 5/15\n",
            "\u001b[1m2301/2301\u001b[0m \u001b[32m━━━━━━━━━━━━━━━━━━━━\u001b[0m\u001b[37m\u001b[0m \u001b[1m42s\u001b[0m 10ms/step - accuracy: 0.9691 - loss: 0.0776 - val_accuracy: 0.9700 - val_loss: 0.0753\n",
            "Epoch 6/15\n",
            "\u001b[1m2301/2301\u001b[0m \u001b[32m━━━━━━━━━━━━━━━━━━━━\u001b[0m\u001b[37m\u001b[0m \u001b[1m41s\u001b[0m 10ms/step - accuracy: 0.9695 - loss: 0.0762 - val_accuracy: 0.9701 - val_loss: 0.0739\n",
            "Epoch 7/15\n",
            "\u001b[1m2301/2301\u001b[0m \u001b[32m━━━━━━━━━━━━━━━━━━━━\u001b[0m\u001b[37m\u001b[0m \u001b[1m24s\u001b[0m 11ms/step - accuracy: 0.9703 - loss: 0.0741 - val_accuracy: 0.9701 - val_loss: 0.0736\n",
            "Epoch 8/15\n",
            "\u001b[1m2301/2301\u001b[0m \u001b[32m━━━━━━━━━━━━━━━━━━━━\u001b[0m\u001b[37m\u001b[0m \u001b[1m39s\u001b[0m 10ms/step - accuracy: 0.9704 - loss: 0.0737 - val_accuracy: 0.9706 - val_loss: 0.0733\n",
            "Epoch 9/15\n",
            "\u001b[1m2301/2301\u001b[0m \u001b[32m━━━━━━━━━━━━━━━━━━━━\u001b[0m\u001b[37m\u001b[0m \u001b[1m21s\u001b[0m 9ms/step - accuracy: 0.9705 - loss: 0.0731 - val_accuracy: 0.9716 - val_loss: 0.0720\n",
            "Epoch 10/15\n",
            "\u001b[1m2301/2301\u001b[0m \u001b[32m━━━━━━━━━━━━━━━━━━━━\u001b[0m\u001b[37m\u001b[0m \u001b[1m23s\u001b[0m 10ms/step - accuracy: 0.9707 - loss: 0.0725 - val_accuracy: 0.9718 - val_loss: 0.0707\n",
            "Epoch 11/15\n",
            "\u001b[1m2301/2301\u001b[0m \u001b[32m━━━━━━━━━━━━━━━━━━━━\u001b[0m\u001b[37m\u001b[0m \u001b[1m23s\u001b[0m 10ms/step - accuracy: 0.9711 - loss: 0.0715 - val_accuracy: 0.9722 - val_loss: 0.0701\n",
            "Epoch 12/15\n",
            "\u001b[1m2301/2301\u001b[0m \u001b[32m━━━━━━━━━━━━━━━━━━━━\u001b[0m\u001b[37m\u001b[0m \u001b[1m21s\u001b[0m 9ms/step - accuracy: 0.9713 - loss: 0.0715 - val_accuracy: 0.9725 - val_loss: 0.0694\n",
            "Epoch 13/15\n",
            "\u001b[1m2301/2301\u001b[0m \u001b[32m━━━━━━━━━━━━━━━━━━━━\u001b[0m\u001b[37m\u001b[0m \u001b[1m23s\u001b[0m 10ms/step - accuracy: 0.9717 - loss: 0.0709 - val_accuracy: 0.9724 - val_loss: 0.0688\n",
            "Epoch 14/15\n",
            "\u001b[1m2301/2301\u001b[0m \u001b[32m━━━━━━━━━━━━━━━━━━━━\u001b[0m\u001b[37m\u001b[0m \u001b[1m40s\u001b[0m 9ms/step - accuracy: 0.9715 - loss: 0.0705 - val_accuracy: 0.9724 - val_loss: 0.0693\n",
            "Epoch 15/15\n",
            "\u001b[1m2301/2301\u001b[0m \u001b[32m━━━━━━━━━━━━━━━━━━━━\u001b[0m\u001b[37m\u001b[0m \u001b[1m22s\u001b[0m 10ms/step - accuracy: 0.9715 - loss: 0.0706 - val_accuracy: 0.9729 - val_loss: 0.0688\n"
          ]
        },
        {
          "output_type": "execute_result",
          "data": {
            "text/plain": [
              "<keras.src.callbacks.history.History at 0x7a5ec57bf910>"
            ]
          },
          "metadata": {},
          "execution_count": 20
        }
      ],
      "source": [
        "#LSTM\n",
        "model = Sequential()\n",
        "model.add(LSTM(64, input_shape=(X_train.shape[1], X_train.shape[2]), return_sequences=False))\n",
        "model.add(Dropout(0.2))\n",
        "model.add(Dense(32, activation='relu'))\n",
        "model.add(Dense(1, activation='sigmoid'))\n",
        "\n",
        "model.compile(optimizer='adam', loss='binary_crossentropy', metrics=['accuracy'])\n",
        "\n",
        "early_stop = EarlyStopping(monitor='val_loss', patience=3)\n",
        "\n",
        "model.fit(X_train, y_train, validation_data=(X_test, y_test),\n",
        "          epochs=15, batch_size=512, callbacks=[early_stop], verbose=1)\n"
      ]
    },
    {
      "cell_type": "code",
      "execution_count": 21,
      "id": "90345b2c",
      "metadata": {
        "id": "90345b2c",
        "colab": {
          "base_uri": "https://localhost:8080/"
        },
        "outputId": "50a26822-56be-460b-ad0f-06874524ce48"
      },
      "outputs": [
        {
          "output_type": "stream",
          "name": "stdout",
          "text": [
            "\u001b[1m9201/9201\u001b[0m \u001b[32m━━━━━━━━━━━━━━━━━━━━\u001b[0m\u001b[37m\u001b[0m \u001b[1m15s\u001b[0m 2ms/step\n",
            "\n",
            "=== Evaluasi LSTM baseline ===\n",
            "[[283329   1159]\n",
            " [  6818   3126]]\n",
            "              precision    recall  f1-score   support\n",
            "\n",
            "           0       0.98      1.00      0.99    284488\n",
            "           1       0.73      0.31      0.44      9944\n",
            "\n",
            "    accuracy                           0.97    294432\n",
            "   macro avg       0.85      0.66      0.71    294432\n",
            "weighted avg       0.97      0.97      0.97    294432\n",
            "\n"
          ]
        }
      ],
      "source": [
        "#Evaluasi LSTM\n",
        "y_pred = (model.predict(X_test) > 0.5).astype('int')\n",
        "print(\"\\n=== Evaluasi LSTM baseline ===\")\n",
        "print(confusion_matrix(y_test, y_pred))\n",
        "print(classification_report(y_test, y_pred))"
      ]
    },
    {
      "cell_type": "code",
      "execution_count": 22,
      "id": "fea67a08",
      "metadata": {
        "id": "fea67a08",
        "colab": {
          "base_uri": "https://localhost:8080/"
        },
        "outputId": "3823efba-b885-4223-9074-9b5174868707"
      },
      "outputs": [
        {
          "output_type": "stream",
          "name": "stderr",
          "text": [
            "/usr/local/lib/python3.11/dist-packages/keras/src/layers/rnn/rnn.py:200: UserWarning: Do not pass an `input_shape`/`input_dim` argument to a layer. When using Sequential models, prefer using an `Input(shape)` object as the first layer in the model instead.\n",
            "  super().__init__(**kwargs)\n"
          ]
        },
        {
          "output_type": "stream",
          "name": "stdout",
          "text": [
            "Epoch 1/15\n",
            "\u001b[1m4446/4446\u001b[0m \u001b[32m━━━━━━━━━━━━━━━━━━━━\u001b[0m\u001b[37m\u001b[0m \u001b[1m44s\u001b[0m 9ms/step - accuracy: 0.8666 - loss: 0.3340 - val_accuracy: 0.9106 - val_loss: 0.2371\n",
            "Epoch 2/15\n",
            "\u001b[1m4446/4446\u001b[0m \u001b[32m━━━━━━━━━━━━━━━━━━━━\u001b[0m\u001b[37m\u001b[0m \u001b[1m41s\u001b[0m 9ms/step - accuracy: 0.9118 - loss: 0.2337 - val_accuracy: 0.9153 - val_loss: 0.2257\n",
            "Epoch 3/15\n",
            "\u001b[1m4446/4446\u001b[0m \u001b[32m━━━━━━━━━━━━━━━━━━━━\u001b[0m\u001b[37m\u001b[0m \u001b[1m38s\u001b[0m 8ms/step - accuracy: 0.9171 - loss: 0.2207 - val_accuracy: 0.9198 - val_loss: 0.2133\n",
            "Epoch 4/15\n",
            "\u001b[1m4446/4446\u001b[0m \u001b[32m━━━━━━━━━━━━━━━━━━━━\u001b[0m\u001b[37m\u001b[0m \u001b[1m40s\u001b[0m 9ms/step - accuracy: 0.9208 - loss: 0.2110 - val_accuracy: 0.9206 - val_loss: 0.2105\n",
            "Epoch 5/15\n",
            "\u001b[1m4446/4446\u001b[0m \u001b[32m━━━━━━━━━━━━━━━━━━━━\u001b[0m\u001b[37m\u001b[0m \u001b[1m40s\u001b[0m 9ms/step - accuracy: 0.9235 - loss: 0.2046 - val_accuracy: 0.9261 - val_loss: 0.1976\n",
            "Epoch 6/15\n",
            "\u001b[1m4446/4446\u001b[0m \u001b[32m━━━━━━━━━━━━━━━━━━━━\u001b[0m\u001b[37m\u001b[0m \u001b[1m41s\u001b[0m 9ms/step - accuracy: 0.9265 - loss: 0.1973 - val_accuracy: 0.9282 - val_loss: 0.1922\n",
            "Epoch 7/15\n",
            "\u001b[1m4446/4446\u001b[0m \u001b[32m━━━━━━━━━━━━━━━━━━━━\u001b[0m\u001b[37m\u001b[0m \u001b[1m39s\u001b[0m 9ms/step - accuracy: 0.9289 - loss: 0.1913 - val_accuracy: 0.9299 - val_loss: 0.1890\n",
            "Epoch 8/15\n",
            "\u001b[1m4446/4446\u001b[0m \u001b[32m━━━━━━━━━━━━━━━━━━━━\u001b[0m\u001b[37m\u001b[0m \u001b[1m41s\u001b[0m 9ms/step - accuracy: 0.9305 - loss: 0.1876 - val_accuracy: 0.9324 - val_loss: 0.1833\n",
            "Epoch 9/15\n",
            "\u001b[1m4446/4446\u001b[0m \u001b[32m━━━━━━━━━━━━━━━━━━━━\u001b[0m\u001b[37m\u001b[0m \u001b[1m80s\u001b[0m 9ms/step - accuracy: 0.9320 - loss: 0.1846 - val_accuracy: 0.9332 - val_loss: 0.1808\n",
            "Epoch 10/15\n",
            "\u001b[1m4446/4446\u001b[0m \u001b[32m━━━━━━━━━━━━━━━━━━━━\u001b[0m\u001b[37m\u001b[0m \u001b[1m42s\u001b[0m 9ms/step - accuracy: 0.9334 - loss: 0.1811 - val_accuracy: 0.9339 - val_loss: 0.1796\n",
            "Epoch 11/15\n",
            "\u001b[1m4446/4446\u001b[0m \u001b[32m━━━━━━━━━━━━━━━━━━━━\u001b[0m\u001b[37m\u001b[0m \u001b[1m43s\u001b[0m 9ms/step - accuracy: 0.9344 - loss: 0.1786 - val_accuracy: 0.9357 - val_loss: 0.1752\n",
            "Epoch 12/15\n",
            "\u001b[1m4446/4446\u001b[0m \u001b[32m━━━━━━━━━━━━━━━━━━━━\u001b[0m\u001b[37m\u001b[0m \u001b[1m78s\u001b[0m 9ms/step - accuracy: 0.9349 - loss: 0.1770 - val_accuracy: 0.9358 - val_loss: 0.1747\n",
            "Epoch 13/15\n",
            "\u001b[1m4446/4446\u001b[0m \u001b[32m━━━━━━━━━━━━━━━━━━━━\u001b[0m\u001b[37m\u001b[0m \u001b[1m40s\u001b[0m 9ms/step - accuracy: 0.9363 - loss: 0.1743 - val_accuracy: 0.9368 - val_loss: 0.1721\n",
            "Epoch 14/15\n",
            "\u001b[1m4446/4446\u001b[0m \u001b[32m━━━━━━━━━━━━━━━━━━━━\u001b[0m\u001b[37m\u001b[0m \u001b[1m39s\u001b[0m 9ms/step - accuracy: 0.9371 - loss: 0.1721 - val_accuracy: 0.9371 - val_loss: 0.1707\n",
            "Epoch 15/15\n",
            "\u001b[1m4446/4446\u001b[0m \u001b[32m━━━━━━━━━━━━━━━━━━━━\u001b[0m\u001b[37m\u001b[0m \u001b[1m40s\u001b[0m 9ms/step - accuracy: 0.9376 - loss: 0.1707 - val_accuracy: 0.9357 - val_loss: 0.1738\n"
          ]
        },
        {
          "output_type": "execute_result",
          "data": {
            "text/plain": [
              "<keras.src.callbacks.history.History at 0x7a5f15475810>"
            ]
          },
          "metadata": {},
          "execution_count": 22
        }
      ],
      "source": [
        "# LSTM + SMOTE\n",
        "X_smote_flat = X_scaled\n",
        "sm = SMOTE(random_state=42)\n",
        "X_resampled, y_resampled = sm.fit_resample(X_smote_flat, y)\n",
        "\n",
        "X_resampled_3d = X_resampled.reshape((X_resampled.shape[0], 1, X_resampled.shape[1]))\n",
        "\n",
        "X_train_s, X_test_s, y_train_s, y_test_s = train_test_split(\n",
        "    X_resampled_3d, y_resampled, test_size=0.2, random_state=42)\n",
        "\n",
        "model_sm = Sequential()\n",
        "model_sm.add(LSTM(64, input_shape=(X_train_s.shape[1], X_train_s.shape[2]), return_sequences=False))\n",
        "model.add(Dropout(0.2))\n",
        "model_sm.add(Dense(32, activation='relu'))\n",
        "model_sm.add(Dense(1, activation='sigmoid'))\n",
        "\n",
        "model_sm.compile(optimizer='adam', loss='binary_crossentropy', metrics=['accuracy'])\n",
        "\n",
        "model_sm.fit(X_train_s, y_train_s, validation_data=(X_test_s, y_test_s),\n",
        "             epochs=15, batch_size=512, callbacks=[early_stop], verbose=1)"
      ]
    },
    {
      "cell_type": "code",
      "execution_count": 23,
      "id": "ea44ab79",
      "metadata": {
        "id": "ea44ab79",
        "colab": {
          "base_uri": "https://localhost:8080/"
        },
        "outputId": "7421d94d-9959-4c56-a5d1-304b26c545e6"
      },
      "outputs": [
        {
          "output_type": "stream",
          "name": "stdout",
          "text": [
            "\u001b[1m17781/17781\u001b[0m \u001b[32m━━━━━━━━━━━━━━━━━━━━\u001b[0m\u001b[37m\u001b[0m \u001b[1m33s\u001b[0m 2ms/step\n",
            "\n",
            "=== Evaluasi LSTM Dengan SMOTE ===\n",
            "[[263329  21034]\n",
            " [ 15556 269056]]\n",
            "              precision    recall  f1-score   support\n",
            "\n",
            "           0       0.94      0.93      0.94    284363\n",
            "           1       0.93      0.95      0.94    284612\n",
            "\n",
            "    accuracy                           0.94    568975\n",
            "   macro avg       0.94      0.94      0.94    568975\n",
            "weighted avg       0.94      0.94      0.94    568975\n",
            "\n"
          ]
        }
      ],
      "source": [
        "# Evaluasi LSTM + SMOTE\n",
        "y_pred_sm = (model_sm.predict(X_test_s) > 0.5).astype('int')\n",
        "print(\"\\n=== Evaluasi LSTM Dengan SMOTE ===\")\n",
        "print(confusion_matrix(y_test_s, y_pred_sm))\n",
        "print(classification_report(y_test_s, y_pred_sm))"
      ]
    },
    {
      "cell_type": "code",
      "execution_count": 24,
      "id": "qtV3rD0-IRWd",
      "metadata": {
        "id": "qtV3rD0-IRWd",
        "colab": {
          "base_uri": "https://localhost:8080/"
        },
        "outputId": "0300e29e-6c5a-490e-fe85-1f5dae7fccbc"
      },
      "outputs": [
        {
          "output_type": "stream",
          "name": "stdout",
          "text": [
            "Epoch 1/50\n"
          ]
        },
        {
          "output_type": "stream",
          "name": "stderr",
          "text": [
            "/usr/local/lib/python3.11/dist-packages/keras/src/layers/rnn/rnn.py:200: UserWarning: Do not pass an `input_shape`/`input_dim` argument to a layer. When using Sequential models, prefer using an `Input(shape)` object as the first layer in the model instead.\n",
            "  super().__init__(**kwargs)\n"
          ]
        },
        {
          "output_type": "stream",
          "name": "stdout",
          "text": [
            "1989/1989 - 10s - 5ms/step - accuracy: 0.8134 - loss: 0.4001 - val_accuracy: 0.8524 - val_loss: 0.3948\n",
            "Epoch 2/50\n",
            "1989/1989 - 11s - 5ms/step - accuracy: 0.8736 - loss: 0.3160 - val_accuracy: 0.8909 - val_loss: 0.3521\n",
            "Epoch 3/50\n",
            "1989/1989 - 10s - 5ms/step - accuracy: 0.8808 - loss: 0.3015 - val_accuracy: 0.8536 - val_loss: 0.4147\n",
            "Epoch 4/50\n",
            "1989/1989 - 9s - 5ms/step - accuracy: 0.8846 - loss: 0.2919 - val_accuracy: 0.8526 - val_loss: 0.4091\n",
            "Epoch 5/50\n",
            "1989/1989 - 10s - 5ms/step - accuracy: 0.8871 - loss: 0.2843 - val_accuracy: 0.7974 - val_loss: 0.4947\n",
            "Epoch 6/50\n",
            "1989/1989 - 8s - 4ms/step - accuracy: 0.8886 - loss: 0.2793 - val_accuracy: 0.8908 - val_loss: 0.3284\n",
            "Epoch 7/50\n",
            "1989/1989 - 7s - 3ms/step - accuracy: 0.8896 - loss: 0.2752 - val_accuracy: 0.8883 - val_loss: 0.3331\n",
            "Epoch 8/50\n",
            "1989/1989 - 10s - 5ms/step - accuracy: 0.8911 - loss: 0.2715 - val_accuracy: 0.8717 - val_loss: 0.3656\n",
            "Epoch 9/50\n",
            "1989/1989 - 7s - 4ms/step - accuracy: 0.8925 - loss: 0.2686 - val_accuracy: 0.8551 - val_loss: 0.3916\n",
            "Epoch 10/50\n",
            "1989/1989 - 6s - 3ms/step - accuracy: 0.8926 - loss: 0.2657 - val_accuracy: 0.8548 - val_loss: 0.3957\n",
            "Epoch 11/50\n",
            "1989/1989 - 11s - 5ms/step - accuracy: 0.8937 - loss: 0.2634 - val_accuracy: 0.9075 - val_loss: 0.2840\n",
            "Epoch 12/50\n",
            "1989/1989 - 8s - 4ms/step - accuracy: 0.8944 - loss: 0.2620 - val_accuracy: 0.9014 - val_loss: 0.2963\n",
            "Epoch 13/50\n",
            "1989/1989 - 7s - 3ms/step - accuracy: 0.8952 - loss: 0.2606 - val_accuracy: 0.8896 - val_loss: 0.3250\n",
            "Epoch 14/50\n",
            "1989/1989 - 10s - 5ms/step - accuracy: 0.8954 - loss: 0.2590 - val_accuracy: 0.8836 - val_loss: 0.3392\n",
            "Epoch 15/50\n",
            "1989/1989 - 8s - 4ms/step - accuracy: 0.8962 - loss: 0.2583 - val_accuracy: 0.9186 - val_loss: 0.2625\n",
            "Epoch 16/50\n",
            "1989/1989 - 9s - 4ms/step - accuracy: 0.8965 - loss: 0.2574 - val_accuracy: 0.9223 - val_loss: 0.2559\n",
            "Epoch 17/50\n",
            "1989/1989 - 10s - 5ms/step - accuracy: 0.8966 - loss: 0.2567 - val_accuracy: 0.9111 - val_loss: 0.2735\n",
            "Epoch 18/50\n",
            "1989/1989 - 11s - 5ms/step - accuracy: 0.8969 - loss: 0.2560 - val_accuracy: 0.8832 - val_loss: 0.3401\n",
            "Epoch 19/50\n",
            "1989/1989 - 11s - 6ms/step - accuracy: 0.8977 - loss: 0.2543 - val_accuracy: 0.9034 - val_loss: 0.2912\n",
            "Epoch 20/50\n",
            "1989/1989 - 7s - 3ms/step - accuracy: 0.8988 - loss: 0.2535 - val_accuracy: 0.8907 - val_loss: 0.3200\n",
            "Epoch 21/50\n",
            "1989/1989 - 10s - 5ms/step - accuracy: 0.8988 - loss: 0.2526 - val_accuracy: 0.9070 - val_loss: 0.2902\n"
          ]
        }
      ],
      "source": [
        "from imblearn.under_sampling import RandomUnderSampler\n",
        "#LSTM + Undersampling\n",
        "X_train_2d, X_test_2d, y_train_under, y_test_under = train_test_split(\n",
        "    X_scaled, y, test_size=0.2, stratify=y, random_state=42)\n",
        "\n",
        "rus = RandomUnderSampler(random_state=42)\n",
        "X_under, y_under = rus.fit_resample(X_train_2d, y_train_under)\n",
        "\n",
        "X_under_3d = X_under.reshape((X_under.shape[0], 1, X_under.shape[1]))\n",
        "\n",
        "model_under = Sequential()\n",
        "model_under.add(LSTM(64, input_shape=(X_under_3d.shape[1], X_under_3d.shape[2])))\n",
        "model_under.add(Dense(1, activation='sigmoid'))\n",
        "\n",
        "model_under.compile(loss='binary_crossentropy', optimizer='adam', metrics=['accuracy'])\n",
        "\n",
        "early_stop_under = EarlyStopping(monitor='val_loss', patience=5, restore_best_weights=True)\n",
        "\n",
        "history_under = model_under.fit(\n",
        "    X_under_3d, y_under,\n",
        "    epochs=50,\n",
        "    batch_size=32,\n",
        "    validation_split=0.2,\n",
        "    callbacks=[early_stop_under],\n",
        "    verbose=2\n",
        ")\n"
      ]
    },
    {
      "cell_type": "code",
      "execution_count": 25,
      "id": "f_WZOdByIuHQ",
      "metadata": {
        "id": "f_WZOdByIuHQ",
        "colab": {
          "base_uri": "https://localhost:8080/",
          "height": 660
        },
        "outputId": "8ddcc057-bca7-4f85-b427-d8bb56bf9968"
      },
      "outputs": [
        {
          "output_type": "stream",
          "name": "stdout",
          "text": [
            "\u001b[1m9201/9201\u001b[0m \u001b[32m━━━━━━━━━━━━━━━━━━━━\u001b[0m\u001b[37m\u001b[0m \u001b[1m14s\u001b[0m 1ms/step\n",
            "=== LSTM + Undersampling ===\n",
            "              precision    recall  f1-score   support\n",
            "\n",
            "           0       1.00      0.88      0.94    284488\n",
            "           1       0.21      0.92      0.35      9944\n",
            "\n",
            "    accuracy                           0.88    294432\n",
            "   macro avg       0.61      0.90      0.64    294432\n",
            "weighted avg       0.97      0.88      0.92    294432\n",
            "\n",
            "ROC AUC: 0.9548477548340615\n"
          ]
        },
        {
          "output_type": "display_data",
          "data": {
            "text/plain": [
              "<Figure size 640x480 with 2 Axes>"
            ],
            "image/png": "[encoded data removed]"
          },
          "metadata": {}
        }
      ],
      "source": [
        "#Evaluasi LSTM + Undersampling\n",
        "import matplotlib.pyplot as plt\n",
        "from sklearn.metrics import roc_auc_score\n",
        "import seaborn as sns\n",
        "X_test_3d = X_test_2d.reshape((X_test_2d.shape[0], 1, X_test_2d.shape[1]))\n",
        "y_pred_prob_under = model_under.predict(X_test_3d).flatten()\n",
        "y_pred_under = (y_pred_prob_under > 0.5).astype(int)\n",
        "\n",
        "print(\"=== LSTM + Undersampling ===\")\n",
        "print(classification_report(y_test_under, y_pred_under))\n",
        "print(\"ROC AUC:\", roc_auc_score(y_test_under, y_pred_prob_under))\n",
        "\n",
        "sns.heatmap(confusion_matrix(y_test_under, y_pred_under), annot=True, fmt='d', cmap='Purples')\n",
        "plt.title(\"Confusion Matrix - LSTM + Undersampling\")\n",
        "plt.show()\n"
      ]
    },
    {
      "cell_type": "code",
      "execution_count": null,
      "id": "hDDkdGDVIvbw",
      "metadata": {
        "id": "hDDkdGDVIvbw"
      },
      "outputs": [],
      "source": [
        "from sklearn.ensemble import RandomForestClassifier\n",
        "from sklearn.metrics import roc_auc_score\n",
        "import seaborn as sns\n",
        "import matplotlib.pyplot as plt\n",
        "# LSTM + Feature Selection (RF)\n",
        "# Feature selection dengan Random Forest\n",
        "rf = RandomForestClassifier(n_estimators=100, random_state=42)\n",
        "rf.fit(X, y)\n",
        "\n",
        "# Ambil 10 fitur terpenting\n",
        "importances = rf.feature_importances_\n",
        "top_n = 10\n",
        "top_features_idx = np.argsort(importances)[::-1][:top_n]\n",
        "top_features = X.columns[top_features_idx].tolist()\n",
        "\n",
        "print(\"Top Features:\", top_features)\n"
      ]
    },
    {
      "cell_type": "code",
      "execution_count": null,
      "id": "LXzUMozsL9NS",
      "metadata": {
        "id": "LXzUMozsL9NS"
      },
      "outputs": [],
      "source": [
        "# Gunakan top features dari RF\n",
        "X_fs = df[top_features].apply(pd.to_numeric, errors='coerce').fillna(0)\n",
        "\n",
        "# Normalisasi\n",
        "X_fs_scaled = scaler.fit_transform(X_fs)\n",
        "\n",
        "# Reshape untuk LSTM\n",
        "X_fs_reshaped = X_fs_scaled.reshape((X_fs_scaled.shape[0], 1, X_fs_scaled.shape[1]))\n",
        "\n",
        "# Split data\n",
        "X_train_fs, X_test_fs, y_train_fs, y_test_fs = train_test_split(\n",
        "    X_fs_reshaped, y, test_size=0.2, stratify=y, random_state=42\n",
        ")\n",
        "\n",
        "# Model LSTM\n",
        "model_fs = Sequential()\n",
        "model_fs.add(LSTM(64, input_shape=(X_train_fs.shape[1], X_train_fs.shape[2])))\n",
        "model_fs.add(Dense(1, activation='sigmoid'))\n",
        "\n",
        "model_fs.compile(loss='binary_crossentropy', optimizer='adam', metrics=['accuracy'])\n",
        "early_stop_fs = EarlyStopping(monitor='val_loss', patience=5, restore_best_weights=True)\n",
        "\n",
        "# Training\n",
        "history_fs = model_fs.fit(\n",
        "    X_train_fs, y_train_fs,\n",
        "    epochs=35,\n",
        "    batch_size=32,\n",
        "    validation_split=0.2,\n",
        "    callbacks=[early_stop_fs],\n",
        "    verbose=2\n",
        ")"
      ]
    },
    {
      "cell_type": "code",
      "execution_count": null,
      "id": "wAf-9fAXwVLP",
      "metadata": {
        "id": "wAf-9fAXwVLP"
      },
      "outputs": [],
      "source": [
        "import seaborn as sns\n",
        "import matplotlib.pyplot as plt\n",
        "\n",
        "# Prediksi probabilitas dan klasifikasi\n",
        "y_pred_prob_fs = model_fs.predict(X_test_fs).flatten()\n",
        "y_pred_fs = (y_pred_prob_fs > 0.5).astype(int)\n",
        "\n",
        "# Evaluasi\n",
        "print(\"=== LSTM + Feature Selection (RF) ===\")\n",
        "print(classification_report(y_test_fs, y_pred_fs))\n",
        "print(\"ROC AUC:\", roc_auc_score(y_test_fs, y_pred_prob_fs))\n",
        "\n",
        "# Confusion matrix\n",
        "plt.figure(figsize=(6, 4))\n",
        "sns.heatmap(confusion_matrix(y_test_fs, y_pred_fs), annot=True, fmt='d', cmap='Blues', cbar=False)\n",
        "plt.title(\"Confusion Matrix - LSTM + RF Feature Selection\")\n",
        "plt.xlabel(\"Predicted\")\n",
        "plt.ylabel(\"Actual\")\n",
        "plt.tight_layout()\n",
        "plt.show()"
      ]
    }
  ],
  "metadata": {
    "colab": {
      "provenance": []
    },
    "kernelspec": {
      "display_name": "Python 3 (ipykernel)",
      "language": "python",
      "name": "python3"
    },
    "language_info": {
      "codemirror_mode": {
        "name": "ipython",
        "version": 3
      },
      "file_extension": ".py",
      "mimetype": "text/x-python",
      "name": "python",
      "nbconvert_exporter": "python",
      "pygments_lexer": "ipython3",
      "version": "3.10.9"
    }
  },
  "nbformat": 4,
  "nbformat_minor": 5
}